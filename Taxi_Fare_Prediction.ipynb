{
  "nbformat": 4,
  "nbformat_minor": 0,
  "metadata": {
    "colab": {
      "provenance": [],
      "collapsed_sections": [
        "J242mcqWT2HW",
        "oFGh2n1UUIMc"
      ]
    },
    "kernelspec": {
      "name": "python3",
      "display_name": "Python 3"
    },
    "language_info": {
      "name": "python"
    }
  },
  "cells": [
    {
      "cell_type": "code",
      "execution_count": 1,
      "metadata": {
        "id": "UwuxjCeVlUm7"
      },
      "outputs": [],
      "source": [
        "import numpy as np\n",
        "import pandas as pd \n",
        "import sklearn\n",
        "import seaborn as sns\n",
        "import tensorflow as tf\n",
        "from tensorflow.keras.layers import Dense, Dropout\n",
        "import matplotlib.pyplot as plt\n",
        "%matplotlib inline\n",
        "import os\n",
        "import cv2\n",
        "from PIL import Image\n",
        "from tensorflow.keras.preprocessing.image import ImageDataGenerator\n",
        "from matplotlib import style\n",
        "import glob\n",
        "np.random.seed(42)"
      ]
    },
    {
      "cell_type": "markdown",
      "source": [
        "## Taxi fare prediction using neural network"
      ],
      "metadata": {
        "id": "J242mcqWT2HW"
      }
    },
    {
      "cell_type": "code",
      "source": [
        "link_train = \"https://raw.githubusercontent.com/gagan-iitb/CS550/main/Prog_Assignments/train_NYTaxi.csv\"\n",
        "link_test  = \"https://raw.githubusercontent.com/gagan-iitb/CS550/main/Prog_Assignments/test_NYTaxi.csv\"\n",
        "train = pd.read_csv(link_train)\n",
        "test  = pd.read_csv(link_test)"
      ],
      "metadata": {
        "id": "QqCxOp6ZmPIt"
      },
      "execution_count": 2,
      "outputs": []
    },
    {
      "cell_type": "code",
      "source": [
        "## Checking the no. of rows and columns in train and test set\n",
        "print(\"Shape of train set : \",train.shape)\n",
        "print(\"Shape of test set : \",test.shape)\n",
        "print(list(train.columns))\n",
        "print(list(test.columns))"
      ],
      "metadata": {
        "colab": {
          "base_uri": "https://localhost:8080/"
        },
        "id": "2lx4rEocmrIW",
        "outputId": "ae4acde2-96ff-4adc-bae0-9144ca66058b"
      },
      "execution_count": 3,
      "outputs": [
        {
          "output_type": "stream",
          "name": "stdout",
          "text": [
            "Shape of train set :  (100000, 9)\n",
            "Shape of test set :  (9914, 7)\n",
            "['Unnamed: 0', 'key', 'fare_amount', 'pickup_datetime', 'pickup_longitude', 'pickup_latitude', 'dropoff_longitude', 'dropoff_latitude', 'passenger_count']\n",
            "['key', 'pickup_datetime', 'pickup_longitude', 'pickup_latitude', 'dropoff_longitude', 'dropoff_latitude', 'passenger_count']\n"
          ]
        }
      ]
    },
    {
      "cell_type": "code",
      "source": [
        "train.head()"
      ],
      "metadata": {
        "colab": {
          "base_uri": "https://localhost:8080/",
          "height": 354
        },
        "id": "_CmPS3bJmu0v",
        "outputId": "55c2c788-feec-48b0-c533-c20e7f3ca4a9"
      },
      "execution_count": 4,
      "outputs": [
        {
          "output_type": "execute_result",
          "data": {
            "text/plain": [
              "   Unnamed: 0                            key  fare_amount  \\\n",
              "0           0    2009-04-08 19:11:10.0000004          4.9   \n",
              "1           1    2012-07-30 16:19:08.0000003          4.9   \n",
              "2           2  2011-02-22 13:35:00.000000121          6.9   \n",
              "3           3    2010-10-07 21:09:35.0000002         14.1   \n",
              "4           4  2009-10-02 22:51:00.000000140         12.1   \n",
              "\n",
              "           pickup_datetime  pickup_longitude  pickup_latitude  \\\n",
              "0  2009-04-08 19:11:10 UTC        -73.998287        40.727490   \n",
              "1  2012-07-30 16:19:08 UTC        -73.966597        40.794345   \n",
              "2  2011-02-22 13:35:00 UTC        -73.971638        40.763382   \n",
              "3  2010-10-07 21:09:35 UTC        -74.003545        40.707399   \n",
              "4  2009-10-02 22:51:00 UTC        -74.004532        40.707465   \n",
              "\n",
              "   dropoff_longitude  dropoff_latitude  passenger_count  \n",
              "0         -73.989854         40.735239                2  \n",
              "1         -73.965682         40.803808                2  \n",
              "2         -73.953767         40.783715                1  \n",
              "3         -73.981312         40.750071                1  \n",
              "4         -73.977908         40.745633                5  "
            ],
            "text/html": [
              "\n",
              "  <div id=\"df-aa775167-243a-42e1-834b-c6b8f7d2d721\">\n",
              "    <div class=\"colab-df-container\">\n",
              "      <div>\n",
              "<style scoped>\n",
              "    .dataframe tbody tr th:only-of-type {\n",
              "        vertical-align: middle;\n",
              "    }\n",
              "\n",
              "    .dataframe tbody tr th {\n",
              "        vertical-align: top;\n",
              "    }\n",
              "\n",
              "    .dataframe thead th {\n",
              "        text-align: right;\n",
              "    }\n",
              "</style>\n",
              "<table border=\"1\" class=\"dataframe\">\n",
              "  <thead>\n",
              "    <tr style=\"text-align: right;\">\n",
              "      <th></th>\n",
              "      <th>Unnamed: 0</th>\n",
              "      <th>key</th>\n",
              "      <th>fare_amount</th>\n",
              "      <th>pickup_datetime</th>\n",
              "      <th>pickup_longitude</th>\n",
              "      <th>pickup_latitude</th>\n",
              "      <th>dropoff_longitude</th>\n",
              "      <th>dropoff_latitude</th>\n",
              "      <th>passenger_count</th>\n",
              "    </tr>\n",
              "  </thead>\n",
              "  <tbody>\n",
              "    <tr>\n",
              "      <th>0</th>\n",
              "      <td>0</td>\n",
              "      <td>2009-04-08 19:11:10.0000004</td>\n",
              "      <td>4.9</td>\n",
              "      <td>2009-04-08 19:11:10 UTC</td>\n",
              "      <td>-73.998287</td>\n",
              "      <td>40.727490</td>\n",
              "      <td>-73.989854</td>\n",
              "      <td>40.735239</td>\n",
              "      <td>2</td>\n",
              "    </tr>\n",
              "    <tr>\n",
              "      <th>1</th>\n",
              "      <td>1</td>\n",
              "      <td>2012-07-30 16:19:08.0000003</td>\n",
              "      <td>4.9</td>\n",
              "      <td>2012-07-30 16:19:08 UTC</td>\n",
              "      <td>-73.966597</td>\n",
              "      <td>40.794345</td>\n",
              "      <td>-73.965682</td>\n",
              "      <td>40.803808</td>\n",
              "      <td>2</td>\n",
              "    </tr>\n",
              "    <tr>\n",
              "      <th>2</th>\n",
              "      <td>2</td>\n",
              "      <td>2011-02-22 13:35:00.000000121</td>\n",
              "      <td>6.9</td>\n",
              "      <td>2011-02-22 13:35:00 UTC</td>\n",
              "      <td>-73.971638</td>\n",
              "      <td>40.763382</td>\n",
              "      <td>-73.953767</td>\n",
              "      <td>40.783715</td>\n",
              "      <td>1</td>\n",
              "    </tr>\n",
              "    <tr>\n",
              "      <th>3</th>\n",
              "      <td>3</td>\n",
              "      <td>2010-10-07 21:09:35.0000002</td>\n",
              "      <td>14.1</td>\n",
              "      <td>2010-10-07 21:09:35 UTC</td>\n",
              "      <td>-74.003545</td>\n",
              "      <td>40.707399</td>\n",
              "      <td>-73.981312</td>\n",
              "      <td>40.750071</td>\n",
              "      <td>1</td>\n",
              "    </tr>\n",
              "    <tr>\n",
              "      <th>4</th>\n",
              "      <td>4</td>\n",
              "      <td>2009-10-02 22:51:00.000000140</td>\n",
              "      <td>12.1</td>\n",
              "      <td>2009-10-02 22:51:00 UTC</td>\n",
              "      <td>-74.004532</td>\n",
              "      <td>40.707465</td>\n",
              "      <td>-73.977908</td>\n",
              "      <td>40.745633</td>\n",
              "      <td>5</td>\n",
              "    </tr>\n",
              "  </tbody>\n",
              "</table>\n",
              "</div>\n",
              "      <button class=\"colab-df-convert\" onclick=\"convertToInteractive('df-aa775167-243a-42e1-834b-c6b8f7d2d721')\"\n",
              "              title=\"Convert this dataframe to an interactive table.\"\n",
              "              style=\"display:none;\">\n",
              "        \n",
              "  <svg xmlns=\"http://www.w3.org/2000/svg\" height=\"24px\"viewBox=\"0 0 24 24\"\n",
              "       width=\"24px\">\n",
              "    <path d=\"M0 0h24v24H0V0z\" fill=\"none\"/>\n",
              "    <path d=\"M18.56 5.44l.94 2.06.94-2.06 2.06-.94-2.06-.94-.94-2.06-.94 2.06-2.06.94zm-11 1L8.5 8.5l.94-2.06 2.06-.94-2.06-.94L8.5 2.5l-.94 2.06-2.06.94zm10 10l.94 2.06.94-2.06 2.06-.94-2.06-.94-.94-2.06-.94 2.06-2.06.94z\"/><path d=\"M17.41 7.96l-1.37-1.37c-.4-.4-.92-.59-1.43-.59-.52 0-1.04.2-1.43.59L10.3 9.45l-7.72 7.72c-.78.78-.78 2.05 0 2.83L4 21.41c.39.39.9.59 1.41.59.51 0 1.02-.2 1.41-.59l7.78-7.78 2.81-2.81c.8-.78.8-2.07 0-2.86zM5.41 20L4 18.59l7.72-7.72 1.47 1.35L5.41 20z\"/>\n",
              "  </svg>\n",
              "      </button>\n",
              "      \n",
              "  <style>\n",
              "    .colab-df-container {\n",
              "      display:flex;\n",
              "      flex-wrap:wrap;\n",
              "      gap: 12px;\n",
              "    }\n",
              "\n",
              "    .colab-df-convert {\n",
              "      background-color: #E8F0FE;\n",
              "      border: none;\n",
              "      border-radius: 50%;\n",
              "      cursor: pointer;\n",
              "      display: none;\n",
              "      fill: #1967D2;\n",
              "      height: 32px;\n",
              "      padding: 0 0 0 0;\n",
              "      width: 32px;\n",
              "    }\n",
              "\n",
              "    .colab-df-convert:hover {\n",
              "      background-color: #E2EBFA;\n",
              "      box-shadow: 0px 1px 2px rgba(60, 64, 67, 0.3), 0px 1px 3px 1px rgba(60, 64, 67, 0.15);\n",
              "      fill: #174EA6;\n",
              "    }\n",
              "\n",
              "    [theme=dark] .colab-df-convert {\n",
              "      background-color: #3B4455;\n",
              "      fill: #D2E3FC;\n",
              "    }\n",
              "\n",
              "    [theme=dark] .colab-df-convert:hover {\n",
              "      background-color: #434B5C;\n",
              "      box-shadow: 0px 1px 3px 1px rgba(0, 0, 0, 0.15);\n",
              "      filter: drop-shadow(0px 1px 2px rgba(0, 0, 0, 0.3));\n",
              "      fill: #FFFFFF;\n",
              "    }\n",
              "  </style>\n",
              "\n",
              "      <script>\n",
              "        const buttonEl =\n",
              "          document.querySelector('#df-aa775167-243a-42e1-834b-c6b8f7d2d721 button.colab-df-convert');\n",
              "        buttonEl.style.display =\n",
              "          google.colab.kernel.accessAllowed ? 'block' : 'none';\n",
              "\n",
              "        async function convertToInteractive(key) {\n",
              "          const element = document.querySelector('#df-aa775167-243a-42e1-834b-c6b8f7d2d721');\n",
              "          const dataTable =\n",
              "            await google.colab.kernel.invokeFunction('convertToInteractive',\n",
              "                                                     [key], {});\n",
              "          if (!dataTable) return;\n",
              "\n",
              "          const docLinkHtml = 'Like what you see? Visit the ' +\n",
              "            '<a target=\"_blank\" href=https://colab.research.google.com/notebooks/data_table.ipynb>data table notebook</a>'\n",
              "            + ' to learn more about interactive tables.';\n",
              "          element.innerHTML = '';\n",
              "          dataTable['output_type'] = 'display_data';\n",
              "          await google.colab.output.renderOutput(dataTable, element);\n",
              "          const docLink = document.createElement('div');\n",
              "          docLink.innerHTML = docLinkHtml;\n",
              "          element.appendChild(docLink);\n",
              "        }\n",
              "      </script>\n",
              "    </div>\n",
              "  </div>\n",
              "  "
            ]
          },
          "metadata": {},
          "execution_count": 4
        }
      ]
    },
    {
      "cell_type": "code",
      "source": [
        "## dropping the \"Unnamed: 0\" column\n",
        "train = train.drop(\"Unnamed: 0\",axis=1)"
      ],
      "metadata": {
        "id": "VSvRC9i5m2ns"
      },
      "execution_count": 5,
      "outputs": []
    },
    {
      "cell_type": "code",
      "source": [
        "train.head()"
      ],
      "metadata": {
        "colab": {
          "base_uri": "https://localhost:8080/",
          "height": 337
        },
        "id": "WywTU1aEnNER",
        "outputId": "a381bacc-990e-4e94-fdc5-49c14295bfe7"
      },
      "execution_count": 6,
      "outputs": [
        {
          "output_type": "execute_result",
          "data": {
            "text/plain": [
              "                             key  fare_amount          pickup_datetime  \\\n",
              "0    2009-04-08 19:11:10.0000004          4.9  2009-04-08 19:11:10 UTC   \n",
              "1    2012-07-30 16:19:08.0000003          4.9  2012-07-30 16:19:08 UTC   \n",
              "2  2011-02-22 13:35:00.000000121          6.9  2011-02-22 13:35:00 UTC   \n",
              "3    2010-10-07 21:09:35.0000002         14.1  2010-10-07 21:09:35 UTC   \n",
              "4  2009-10-02 22:51:00.000000140         12.1  2009-10-02 22:51:00 UTC   \n",
              "\n",
              "   pickup_longitude  pickup_latitude  dropoff_longitude  dropoff_latitude  \\\n",
              "0        -73.998287        40.727490         -73.989854         40.735239   \n",
              "1        -73.966597        40.794345         -73.965682         40.803808   \n",
              "2        -73.971638        40.763382         -73.953767         40.783715   \n",
              "3        -74.003545        40.707399         -73.981312         40.750071   \n",
              "4        -74.004532        40.707465         -73.977908         40.745633   \n",
              "\n",
              "   passenger_count  \n",
              "0                2  \n",
              "1                2  \n",
              "2                1  \n",
              "3                1  \n",
              "4                5  "
            ],
            "text/html": [
              "\n",
              "  <div id=\"df-7ccc3f0a-83ad-432b-bc8e-8c3ad19258e8\">\n",
              "    <div class=\"colab-df-container\">\n",
              "      <div>\n",
              "<style scoped>\n",
              "    .dataframe tbody tr th:only-of-type {\n",
              "        vertical-align: middle;\n",
              "    }\n",
              "\n",
              "    .dataframe tbody tr th {\n",
              "        vertical-align: top;\n",
              "    }\n",
              "\n",
              "    .dataframe thead th {\n",
              "        text-align: right;\n",
              "    }\n",
              "</style>\n",
              "<table border=\"1\" class=\"dataframe\">\n",
              "  <thead>\n",
              "    <tr style=\"text-align: right;\">\n",
              "      <th></th>\n",
              "      <th>key</th>\n",
              "      <th>fare_amount</th>\n",
              "      <th>pickup_datetime</th>\n",
              "      <th>pickup_longitude</th>\n",
              "      <th>pickup_latitude</th>\n",
              "      <th>dropoff_longitude</th>\n",
              "      <th>dropoff_latitude</th>\n",
              "      <th>passenger_count</th>\n",
              "    </tr>\n",
              "  </thead>\n",
              "  <tbody>\n",
              "    <tr>\n",
              "      <th>0</th>\n",
              "      <td>2009-04-08 19:11:10.0000004</td>\n",
              "      <td>4.9</td>\n",
              "      <td>2009-04-08 19:11:10 UTC</td>\n",
              "      <td>-73.998287</td>\n",
              "      <td>40.727490</td>\n",
              "      <td>-73.989854</td>\n",
              "      <td>40.735239</td>\n",
              "      <td>2</td>\n",
              "    </tr>\n",
              "    <tr>\n",
              "      <th>1</th>\n",
              "      <td>2012-07-30 16:19:08.0000003</td>\n",
              "      <td>4.9</td>\n",
              "      <td>2012-07-30 16:19:08 UTC</td>\n",
              "      <td>-73.966597</td>\n",
              "      <td>40.794345</td>\n",
              "      <td>-73.965682</td>\n",
              "      <td>40.803808</td>\n",
              "      <td>2</td>\n",
              "    </tr>\n",
              "    <tr>\n",
              "      <th>2</th>\n",
              "      <td>2011-02-22 13:35:00.000000121</td>\n",
              "      <td>6.9</td>\n",
              "      <td>2011-02-22 13:35:00 UTC</td>\n",
              "      <td>-73.971638</td>\n",
              "      <td>40.763382</td>\n",
              "      <td>-73.953767</td>\n",
              "      <td>40.783715</td>\n",
              "      <td>1</td>\n",
              "    </tr>\n",
              "    <tr>\n",
              "      <th>3</th>\n",
              "      <td>2010-10-07 21:09:35.0000002</td>\n",
              "      <td>14.1</td>\n",
              "      <td>2010-10-07 21:09:35 UTC</td>\n",
              "      <td>-74.003545</td>\n",
              "      <td>40.707399</td>\n",
              "      <td>-73.981312</td>\n",
              "      <td>40.750071</td>\n",
              "      <td>1</td>\n",
              "    </tr>\n",
              "    <tr>\n",
              "      <th>4</th>\n",
              "      <td>2009-10-02 22:51:00.000000140</td>\n",
              "      <td>12.1</td>\n",
              "      <td>2009-10-02 22:51:00 UTC</td>\n",
              "      <td>-74.004532</td>\n",
              "      <td>40.707465</td>\n",
              "      <td>-73.977908</td>\n",
              "      <td>40.745633</td>\n",
              "      <td>5</td>\n",
              "    </tr>\n",
              "  </tbody>\n",
              "</table>\n",
              "</div>\n",
              "      <button class=\"colab-df-convert\" onclick=\"convertToInteractive('df-7ccc3f0a-83ad-432b-bc8e-8c3ad19258e8')\"\n",
              "              title=\"Convert this dataframe to an interactive table.\"\n",
              "              style=\"display:none;\">\n",
              "        \n",
              "  <svg xmlns=\"http://www.w3.org/2000/svg\" height=\"24px\"viewBox=\"0 0 24 24\"\n",
              "       width=\"24px\">\n",
              "    <path d=\"M0 0h24v24H0V0z\" fill=\"none\"/>\n",
              "    <path d=\"M18.56 5.44l.94 2.06.94-2.06 2.06-.94-2.06-.94-.94-2.06-.94 2.06-2.06.94zm-11 1L8.5 8.5l.94-2.06 2.06-.94-2.06-.94L8.5 2.5l-.94 2.06-2.06.94zm10 10l.94 2.06.94-2.06 2.06-.94-2.06-.94-.94-2.06-.94 2.06-2.06.94z\"/><path d=\"M17.41 7.96l-1.37-1.37c-.4-.4-.92-.59-1.43-.59-.52 0-1.04.2-1.43.59L10.3 9.45l-7.72 7.72c-.78.78-.78 2.05 0 2.83L4 21.41c.39.39.9.59 1.41.59.51 0 1.02-.2 1.41-.59l7.78-7.78 2.81-2.81c.8-.78.8-2.07 0-2.86zM5.41 20L4 18.59l7.72-7.72 1.47 1.35L5.41 20z\"/>\n",
              "  </svg>\n",
              "      </button>\n",
              "      \n",
              "  <style>\n",
              "    .colab-df-container {\n",
              "      display:flex;\n",
              "      flex-wrap:wrap;\n",
              "      gap: 12px;\n",
              "    }\n",
              "\n",
              "    .colab-df-convert {\n",
              "      background-color: #E8F0FE;\n",
              "      border: none;\n",
              "      border-radius: 50%;\n",
              "      cursor: pointer;\n",
              "      display: none;\n",
              "      fill: #1967D2;\n",
              "      height: 32px;\n",
              "      padding: 0 0 0 0;\n",
              "      width: 32px;\n",
              "    }\n",
              "\n",
              "    .colab-df-convert:hover {\n",
              "      background-color: #E2EBFA;\n",
              "      box-shadow: 0px 1px 2px rgba(60, 64, 67, 0.3), 0px 1px 3px 1px rgba(60, 64, 67, 0.15);\n",
              "      fill: #174EA6;\n",
              "    }\n",
              "\n",
              "    [theme=dark] .colab-df-convert {\n",
              "      background-color: #3B4455;\n",
              "      fill: #D2E3FC;\n",
              "    }\n",
              "\n",
              "    [theme=dark] .colab-df-convert:hover {\n",
              "      background-color: #434B5C;\n",
              "      box-shadow: 0px 1px 3px 1px rgba(0, 0, 0, 0.15);\n",
              "      filter: drop-shadow(0px 1px 2px rgba(0, 0, 0, 0.3));\n",
              "      fill: #FFFFFF;\n",
              "    }\n",
              "  </style>\n",
              "\n",
              "      <script>\n",
              "        const buttonEl =\n",
              "          document.querySelector('#df-7ccc3f0a-83ad-432b-bc8e-8c3ad19258e8 button.colab-df-convert');\n",
              "        buttonEl.style.display =\n",
              "          google.colab.kernel.accessAllowed ? 'block' : 'none';\n",
              "\n",
              "        async function convertToInteractive(key) {\n",
              "          const element = document.querySelector('#df-7ccc3f0a-83ad-432b-bc8e-8c3ad19258e8');\n",
              "          const dataTable =\n",
              "            await google.colab.kernel.invokeFunction('convertToInteractive',\n",
              "                                                     [key], {});\n",
              "          if (!dataTable) return;\n",
              "\n",
              "          const docLinkHtml = 'Like what you see? Visit the ' +\n",
              "            '<a target=\"_blank\" href=https://colab.research.google.com/notebooks/data_table.ipynb>data table notebook</a>'\n",
              "            + ' to learn more about interactive tables.';\n",
              "          element.innerHTML = '';\n",
              "          dataTable['output_type'] = 'display_data';\n",
              "          await google.colab.output.renderOutput(dataTable, element);\n",
              "          const docLink = document.createElement('div');\n",
              "          docLink.innerHTML = docLinkHtml;\n",
              "          element.appendChild(docLink);\n",
              "        }\n",
              "      </script>\n",
              "    </div>\n",
              "  </div>\n",
              "  "
            ]
          },
          "metadata": {},
          "execution_count": 6
        }
      ]
    },
    {
      "cell_type": "code",
      "source": [
        "test.head()"
      ],
      "metadata": {
        "colab": {
          "base_uri": "https://localhost:8080/",
          "height": 206
        },
        "id": "jHPZQXPCmw1r",
        "outputId": "33858b8e-ba61-4aad-d115-8bd6a69c66ed"
      },
      "execution_count": 7,
      "outputs": [
        {
          "output_type": "execute_result",
          "data": {
            "text/plain": [
              "                           key          pickup_datetime  pickup_longitude  \\\n",
              "0  2015-01-27 13:08:24.0000002  2015-01-27 13:08:24 UTC        -73.973320   \n",
              "1  2015-01-27 13:08:24.0000003  2015-01-27 13:08:24 UTC        -73.986862   \n",
              "2  2011-10-08 11:53:44.0000002  2011-10-08 11:53:44 UTC        -73.982524   \n",
              "3  2012-12-01 21:12:12.0000002  2012-12-01 21:12:12 UTC        -73.981160   \n",
              "4  2012-12-01 21:12:12.0000003  2012-12-01 21:12:12 UTC        -73.966046   \n",
              "\n",
              "   pickup_latitude  dropoff_longitude  dropoff_latitude  passenger_count  \n",
              "0        40.763805         -73.981430         40.743835                1  \n",
              "1        40.719383         -73.998886         40.739201                1  \n",
              "2        40.751260         -73.979654         40.746139                1  \n",
              "3        40.767807         -73.990448         40.751635                1  \n",
              "4        40.789775         -73.988565         40.744427                1  "
            ],
            "text/html": [
              "\n",
              "  <div id=\"df-ebaff64e-9f61-481d-bf3e-4770717b3005\">\n",
              "    <div class=\"colab-df-container\">\n",
              "      <div>\n",
              "<style scoped>\n",
              "    .dataframe tbody tr th:only-of-type {\n",
              "        vertical-align: middle;\n",
              "    }\n",
              "\n",
              "    .dataframe tbody tr th {\n",
              "        vertical-align: top;\n",
              "    }\n",
              "\n",
              "    .dataframe thead th {\n",
              "        text-align: right;\n",
              "    }\n",
              "</style>\n",
              "<table border=\"1\" class=\"dataframe\">\n",
              "  <thead>\n",
              "    <tr style=\"text-align: right;\">\n",
              "      <th></th>\n",
              "      <th>key</th>\n",
              "      <th>pickup_datetime</th>\n",
              "      <th>pickup_longitude</th>\n",
              "      <th>pickup_latitude</th>\n",
              "      <th>dropoff_longitude</th>\n",
              "      <th>dropoff_latitude</th>\n",
              "      <th>passenger_count</th>\n",
              "    </tr>\n",
              "  </thead>\n",
              "  <tbody>\n",
              "    <tr>\n",
              "      <th>0</th>\n",
              "      <td>2015-01-27 13:08:24.0000002</td>\n",
              "      <td>2015-01-27 13:08:24 UTC</td>\n",
              "      <td>-73.973320</td>\n",
              "      <td>40.763805</td>\n",
              "      <td>-73.981430</td>\n",
              "      <td>40.743835</td>\n",
              "      <td>1</td>\n",
              "    </tr>\n",
              "    <tr>\n",
              "      <th>1</th>\n",
              "      <td>2015-01-27 13:08:24.0000003</td>\n",
              "      <td>2015-01-27 13:08:24 UTC</td>\n",
              "      <td>-73.986862</td>\n",
              "      <td>40.719383</td>\n",
              "      <td>-73.998886</td>\n",
              "      <td>40.739201</td>\n",
              "      <td>1</td>\n",
              "    </tr>\n",
              "    <tr>\n",
              "      <th>2</th>\n",
              "      <td>2011-10-08 11:53:44.0000002</td>\n",
              "      <td>2011-10-08 11:53:44 UTC</td>\n",
              "      <td>-73.982524</td>\n",
              "      <td>40.751260</td>\n",
              "      <td>-73.979654</td>\n",
              "      <td>40.746139</td>\n",
              "      <td>1</td>\n",
              "    </tr>\n",
              "    <tr>\n",
              "      <th>3</th>\n",
              "      <td>2012-12-01 21:12:12.0000002</td>\n",
              "      <td>2012-12-01 21:12:12 UTC</td>\n",
              "      <td>-73.981160</td>\n",
              "      <td>40.767807</td>\n",
              "      <td>-73.990448</td>\n",
              "      <td>40.751635</td>\n",
              "      <td>1</td>\n",
              "    </tr>\n",
              "    <tr>\n",
              "      <th>4</th>\n",
              "      <td>2012-12-01 21:12:12.0000003</td>\n",
              "      <td>2012-12-01 21:12:12 UTC</td>\n",
              "      <td>-73.966046</td>\n",
              "      <td>40.789775</td>\n",
              "      <td>-73.988565</td>\n",
              "      <td>40.744427</td>\n",
              "      <td>1</td>\n",
              "    </tr>\n",
              "  </tbody>\n",
              "</table>\n",
              "</div>\n",
              "      <button class=\"colab-df-convert\" onclick=\"convertToInteractive('df-ebaff64e-9f61-481d-bf3e-4770717b3005')\"\n",
              "              title=\"Convert this dataframe to an interactive table.\"\n",
              "              style=\"display:none;\">\n",
              "        \n",
              "  <svg xmlns=\"http://www.w3.org/2000/svg\" height=\"24px\"viewBox=\"0 0 24 24\"\n",
              "       width=\"24px\">\n",
              "    <path d=\"M0 0h24v24H0V0z\" fill=\"none\"/>\n",
              "    <path d=\"M18.56 5.44l.94 2.06.94-2.06 2.06-.94-2.06-.94-.94-2.06-.94 2.06-2.06.94zm-11 1L8.5 8.5l.94-2.06 2.06-.94-2.06-.94L8.5 2.5l-.94 2.06-2.06.94zm10 10l.94 2.06.94-2.06 2.06-.94-2.06-.94-.94-2.06-.94 2.06-2.06.94z\"/><path d=\"M17.41 7.96l-1.37-1.37c-.4-.4-.92-.59-1.43-.59-.52 0-1.04.2-1.43.59L10.3 9.45l-7.72 7.72c-.78.78-.78 2.05 0 2.83L4 21.41c.39.39.9.59 1.41.59.51 0 1.02-.2 1.41-.59l7.78-7.78 2.81-2.81c.8-.78.8-2.07 0-2.86zM5.41 20L4 18.59l7.72-7.72 1.47 1.35L5.41 20z\"/>\n",
              "  </svg>\n",
              "      </button>\n",
              "      \n",
              "  <style>\n",
              "    .colab-df-container {\n",
              "      display:flex;\n",
              "      flex-wrap:wrap;\n",
              "      gap: 12px;\n",
              "    }\n",
              "\n",
              "    .colab-df-convert {\n",
              "      background-color: #E8F0FE;\n",
              "      border: none;\n",
              "      border-radius: 50%;\n",
              "      cursor: pointer;\n",
              "      display: none;\n",
              "      fill: #1967D2;\n",
              "      height: 32px;\n",
              "      padding: 0 0 0 0;\n",
              "      width: 32px;\n",
              "    }\n",
              "\n",
              "    .colab-df-convert:hover {\n",
              "      background-color: #E2EBFA;\n",
              "      box-shadow: 0px 1px 2px rgba(60, 64, 67, 0.3), 0px 1px 3px 1px rgba(60, 64, 67, 0.15);\n",
              "      fill: #174EA6;\n",
              "    }\n",
              "\n",
              "    [theme=dark] .colab-df-convert {\n",
              "      background-color: #3B4455;\n",
              "      fill: #D2E3FC;\n",
              "    }\n",
              "\n",
              "    [theme=dark] .colab-df-convert:hover {\n",
              "      background-color: #434B5C;\n",
              "      box-shadow: 0px 1px 3px 1px rgba(0, 0, 0, 0.15);\n",
              "      filter: drop-shadow(0px 1px 2px rgba(0, 0, 0, 0.3));\n",
              "      fill: #FFFFFF;\n",
              "    }\n",
              "  </style>\n",
              "\n",
              "      <script>\n",
              "        const buttonEl =\n",
              "          document.querySelector('#df-ebaff64e-9f61-481d-bf3e-4770717b3005 button.colab-df-convert');\n",
              "        buttonEl.style.display =\n",
              "          google.colab.kernel.accessAllowed ? 'block' : 'none';\n",
              "\n",
              "        async function convertToInteractive(key) {\n",
              "          const element = document.querySelector('#df-ebaff64e-9f61-481d-bf3e-4770717b3005');\n",
              "          const dataTable =\n",
              "            await google.colab.kernel.invokeFunction('convertToInteractive',\n",
              "                                                     [key], {});\n",
              "          if (!dataTable) return;\n",
              "\n",
              "          const docLinkHtml = 'Like what you see? Visit the ' +\n",
              "            '<a target=\"_blank\" href=https://colab.research.google.com/notebooks/data_table.ipynb>data table notebook</a>'\n",
              "            + ' to learn more about interactive tables.';\n",
              "          element.innerHTML = '';\n",
              "          dataTable['output_type'] = 'display_data';\n",
              "          await google.colab.output.renderOutput(dataTable, element);\n",
              "          const docLink = document.createElement('div');\n",
              "          docLink.innerHTML = docLinkHtml;\n",
              "          element.appendChild(docLink);\n",
              "        }\n",
              "      </script>\n",
              "    </div>\n",
              "  </div>\n",
              "  "
            ]
          },
          "metadata": {},
          "execution_count": 7
        }
      ]
    },
    {
      "cell_type": "markdown",
      "source": [
        "**Data Cleaning**"
      ],
      "metadata": {
        "id": "q_-uB0Dbm_iP"
      }
    },
    {
      "cell_type": "markdown",
      "source": [
        "**Checking for null values:**"
      ],
      "metadata": {
        "id": "FBMGNFJXn_vk"
      }
    },
    {
      "cell_type": "code",
      "source": [
        "train.isnull().sum()"
      ],
      "metadata": {
        "colab": {
          "base_uri": "https://localhost:8080/"
        },
        "id": "IhAEtnKunExd",
        "outputId": "e50e6b20-cc5b-4b9f-d312-f5a8a6d644f6"
      },
      "execution_count": 8,
      "outputs": [
        {
          "output_type": "execute_result",
          "data": {
            "text/plain": [
              "key                  0\n",
              "fare_amount          0\n",
              "pickup_datetime      0\n",
              "pickup_longitude     0\n",
              "pickup_latitude      0\n",
              "dropoff_longitude    0\n",
              "dropoff_latitude     0\n",
              "passenger_count      0\n",
              "dtype: int64"
            ]
          },
          "metadata": {},
          "execution_count": 8
        }
      ]
    },
    {
      "cell_type": "code",
      "source": [
        "test.isnull().sum()"
      ],
      "metadata": {
        "colab": {
          "base_uri": "https://localhost:8080/"
        },
        "id": "BSAdvgkpnZWM",
        "outputId": "cfe299bc-10b1-42ec-a777-76b1e286ca14"
      },
      "execution_count": 9,
      "outputs": [
        {
          "output_type": "execute_result",
          "data": {
            "text/plain": [
              "key                  0\n",
              "pickup_datetime      0\n",
              "pickup_longitude     0\n",
              "pickup_latitude      0\n",
              "dropoff_longitude    0\n",
              "dropoff_latitude     0\n",
              "passenger_count      0\n",
              "dtype: int64"
            ]
          },
          "metadata": {},
          "execution_count": 9
        }
      ]
    },
    {
      "cell_type": "markdown",
      "metadata": {
        "id": "GGaG2LKo5EKB"
      },
      "source": [
        "As we can see there are 0 null values for all the features in train data set so we will go further and check for negative fare_amount values"
      ]
    },
    {
      "cell_type": "code",
      "source": [
        "### droping duplicates\n",
        "train.drop_duplicates(inplace=True)"
      ],
      "metadata": {
        "id": "WDOWRKhPomyt"
      },
      "execution_count": 10,
      "outputs": []
    },
    {
      "cell_type": "code",
      "source": [
        "train.shape"
      ],
      "metadata": {
        "colab": {
          "base_uri": "https://localhost:8080/"
        },
        "id": "uRpyZmGSo956",
        "outputId": "07e03d28-f946-4b3c-a3f4-34e69e97688e"
      },
      "execution_count": 11,
      "outputs": [
        {
          "output_type": "execute_result",
          "data": {
            "text/plain": [
              "(100000, 8)"
            ]
          },
          "metadata": {},
          "execution_count": 11
        }
      ]
    },
    {
      "cell_type": "markdown",
      "source": [
        "**Checking for negative fare amount:**"
      ],
      "metadata": {
        "id": "ooiH63iaoLyT"
      }
    },
    {
      "cell_type": "code",
      "source": [
        "train['fare_amount'].describe()"
      ],
      "metadata": {
        "colab": {
          "base_uri": "https://localhost:8080/"
        },
        "id": "Cl6g4GigoJSo",
        "outputId": "7b5d050f-0815-4292-cc03-9fd3d6b22561"
      },
      "execution_count": 12,
      "outputs": [
        {
          "output_type": "execute_result",
          "data": {
            "text/plain": [
              "count    100000.000000\n",
              "mean         11.333564\n",
              "std           9.810826\n",
              "min          -9.300000\n",
              "25%           6.000000\n",
              "50%           8.500000\n",
              "75%          12.500000\n",
              "max         394.000000\n",
              "Name: fare_amount, dtype: float64"
            ]
          },
          "metadata": {},
          "execution_count": 12
        }
      ]
    },
    {
      "cell_type": "markdown",
      "metadata": {
        "id": "3N4sCsG_bUtD"
      },
      "source": [
        "We are getting **minimum fare_amount value as negative**  which is not possible , so we will drop the rows having negative fare amount."
      ]
    },
    {
      "cell_type": "code",
      "source": [
        "## filtering the rows having non positive fare amount\n",
        "train=train.loc[train[\"fare_amount\"]>0]\n",
        "## Checking for minimum fare_amount value again\n",
        "train[\"fare_amount\"].describe()"
      ],
      "metadata": {
        "colab": {
          "base_uri": "https://localhost:8080/"
        },
        "id": "EK8chS6Knrcp",
        "outputId": "f83d3254-779c-4c9e-f619-92ed1e3fb203"
      },
      "execution_count": 13,
      "outputs": [
        {
          "output_type": "execute_result",
          "data": {
            "text/plain": [
              "count    99994.000000\n",
              "mean        11.334431\n",
              "std          9.810440\n",
              "min          0.010000\n",
              "25%          6.000000\n",
              "50%          8.500000\n",
              "75%         12.500000\n",
              "max        394.000000\n",
              "Name: fare_amount, dtype: float64"
            ]
          },
          "metadata": {},
          "execution_count": 13
        }
      ]
    },
    {
      "cell_type": "markdown",
      "source": [
        "**Checking the passenger count:**"
      ],
      "metadata": {
        "id": "5utytk1Y0snC"
      }
    },
    {
      "cell_type": "code",
      "source": [
        "train[\"passenger_count\"].describe()"
      ],
      "metadata": {
        "colab": {
          "base_uri": "https://localhost:8080/"
        },
        "id": "ps8jVuhB0n2M",
        "outputId": "9ccaea60-e748-42d0-eaab-2ab867cb211d"
      },
      "execution_count": 14,
      "outputs": [
        {
          "output_type": "execute_result",
          "data": {
            "text/plain": [
              "count    99994.000000\n",
              "mean         1.682151\n",
              "std          1.308636\n",
              "min          0.000000\n",
              "25%          1.000000\n",
              "50%          1.000000\n",
              "75%          2.000000\n",
              "max          6.000000\n",
              "Name: passenger_count, dtype: float64"
            ]
          },
          "metadata": {},
          "execution_count": 14
        }
      ]
    },
    {
      "cell_type": "code",
      "source": [
        "test['passenger_count'].describe()"
      ],
      "metadata": {
        "colab": {
          "base_uri": "https://localhost:8080/"
        },
        "id": "-wgp1Ee-opWm",
        "outputId": "a23783d2-d032-4ef7-df8e-f20222845569"
      },
      "execution_count": 15,
      "outputs": [
        {
          "output_type": "execute_result",
          "data": {
            "text/plain": [
              "count    9914.000000\n",
              "mean        1.671273\n",
              "std         1.278747\n",
              "min         1.000000\n",
              "25%         1.000000\n",
              "50%         1.000000\n",
              "75%         2.000000\n",
              "max         6.000000\n",
              "Name: passenger_count, dtype: float64"
            ]
          },
          "metadata": {},
          "execution_count": 15
        }
      ]
    },
    {
      "cell_type": "code",
      "source": [
        "## dropping the rows having zero passenger count\n",
        "train=train.loc[train[\"passenger_count\"]>0]"
      ],
      "metadata": {
        "id": "IZHLSv-I0W8D"
      },
      "execution_count": 16,
      "outputs": []
    },
    {
      "cell_type": "code",
      "source": [
        "print(\"Shape of Train: \", train.shape)"
      ],
      "metadata": {
        "colab": {
          "base_uri": "https://localhost:8080/"
        },
        "id": "CBcvxDcw1ecC",
        "outputId": "c39ffd11-42fb-4bf3-d03b-076fa4c020c9"
      },
      "execution_count": 17,
      "outputs": [
        {
          "output_type": "stream",
          "name": "stdout",
          "text": [
            "Shape of Train:  (99625, 8)\n"
          ]
        }
      ]
    },
    {
      "cell_type": "markdown",
      "source": [
        "**Now, lets check lattitudes and longitudes**\n",
        "\n",
        "We know that:\n",
        "\n",
        "1.   Lattitudes range between -90 to 90\n",
        "2.   Longitudes range between -180 to 180\n",
        "\n"
      ],
      "metadata": {
        "id": "QSu_Ib251_fb"
      }
    },
    {
      "cell_type": "code",
      "source": [
        "train = train.loc[train[\"pickup_latitude\"]<90]\n",
        "train = train.loc[train[\"pickup_latitude\"]>-90]\n",
        "\n",
        "train = train.loc[train[\"dropoff_latitude\"]<90]\n",
        "train = train.loc[train[\"dropoff_latitude\"]>-90]\n",
        "\n",
        "train = train.loc[train[\"pickup_longitude\"]<180]\n",
        "train = train.loc[train[\"pickup_longitude\"]>-180]\n",
        "\n",
        "train = train.loc[train[\"dropoff_longitude\"]<180]\n",
        "train = train.loc[train[\"dropoff_longitude\"]>-180]"
      ],
      "metadata": {
        "id": "bcMddAFE1014"
      },
      "execution_count": 18,
      "outputs": []
    },
    {
      "cell_type": "code",
      "source": [
        "print(\"Shape of Train: \", train.shape)"
      ],
      "metadata": {
        "colab": {
          "base_uri": "https://localhost:8080/"
        },
        "id": "WnWw2vN221TC",
        "outputId": "8c09a41c-9d35-4ff3-da42-75493697eb10"
      },
      "execution_count": 19,
      "outputs": [
        {
          "output_type": "stream",
          "name": "stdout",
          "text": [
            "Shape of Train:  (99622, 8)\n"
          ]
        }
      ]
    },
    {
      "cell_type": "code",
      "source": [
        "test = test.loc[test[\"pickup_latitude\"]<90]\n",
        "test = test.loc[test[\"pickup_latitude\"]>-90]\n",
        "\n",
        "test = test.loc[test[\"dropoff_latitude\"]<90]\n",
        "test = test.loc[test[\"dropoff_latitude\"]>-90]\n",
        "\n",
        "test = test.loc[test[\"pickup_longitude\"]<180]\n",
        "test = test.loc[test[\"pickup_longitude\"]>-180]\n",
        "\n",
        "test = test.loc[test[\"dropoff_longitude\"]<180]\n",
        "test = test.loc[test[\"dropoff_longitude\"]>-180]"
      ],
      "metadata": {
        "id": "YheTPX0o22Gx"
      },
      "execution_count": 20,
      "outputs": []
    },
    {
      "cell_type": "code",
      "source": [
        "print(\"Shape of Test: \", test.shape)"
      ],
      "metadata": {
        "colab": {
          "base_uri": "https://localhost:8080/"
        },
        "id": "AVVoniEk3NgH",
        "outputId": "9ae8d21c-0e54-489e-d46d-00dd56a3c651"
      },
      "execution_count": 21,
      "outputs": [
        {
          "output_type": "stream",
          "name": "stdout",
          "text": [
            "Shape of Test:  (9914, 7)\n"
          ]
        }
      ]
    },
    {
      "cell_type": "code",
      "source": [
        "train.describe()"
      ],
      "metadata": {
        "colab": {
          "base_uri": "https://localhost:8080/",
          "height": 300
        },
        "id": "RxrfvPaG35NE",
        "outputId": "60b400a1-0e11-4b51-9cc3-1e67753b9818"
      },
      "execution_count": 22,
      "outputs": [
        {
          "output_type": "execute_result",
          "data": {
            "text/plain": [
              "        fare_amount  pickup_longitude  pickup_latitude  dropoff_longitude  \\\n",
              "count  99622.000000      99622.000000     99622.000000       99622.000000   \n",
              "mean      11.342516        -72.440074        39.882427         -72.455499   \n",
              "std        9.821215         10.672429         6.284058          10.620103   \n",
              "min        0.010000       -121.391202       -74.015935        -121.391318   \n",
              "25%        6.000000        -73.992133        40.734777         -73.991443   \n",
              "50%        8.500000        -73.981851        40.752457         -73.980215   \n",
              "75%       12.500000        -73.967171        40.767024         -73.963724   \n",
              "max      394.000000         40.801777        42.603366          40.787037   \n",
              "\n",
              "       dropoff_latitude  passenger_count  \n",
              "count      99622.000000     99622.000000  \n",
              "mean          39.889650         1.688352  \n",
              "std            6.263451         1.306984  \n",
              "min          -74.011085         1.000000  \n",
              "25%           40.734021         1.000000  \n",
              "50%           40.753081         1.000000  \n",
              "75%           40.768036         2.000000  \n",
              "max           44.640672         6.000000  "
            ],
            "text/html": [
              "\n",
              "  <div id=\"df-1470b3bb-4575-4d72-b081-51e39936fe47\">\n",
              "    <div class=\"colab-df-container\">\n",
              "      <div>\n",
              "<style scoped>\n",
              "    .dataframe tbody tr th:only-of-type {\n",
              "        vertical-align: middle;\n",
              "    }\n",
              "\n",
              "    .dataframe tbody tr th {\n",
              "        vertical-align: top;\n",
              "    }\n",
              "\n",
              "    .dataframe thead th {\n",
              "        text-align: right;\n",
              "    }\n",
              "</style>\n",
              "<table border=\"1\" class=\"dataframe\">\n",
              "  <thead>\n",
              "    <tr style=\"text-align: right;\">\n",
              "      <th></th>\n",
              "      <th>fare_amount</th>\n",
              "      <th>pickup_longitude</th>\n",
              "      <th>pickup_latitude</th>\n",
              "      <th>dropoff_longitude</th>\n",
              "      <th>dropoff_latitude</th>\n",
              "      <th>passenger_count</th>\n",
              "    </tr>\n",
              "  </thead>\n",
              "  <tbody>\n",
              "    <tr>\n",
              "      <th>count</th>\n",
              "      <td>99622.000000</td>\n",
              "      <td>99622.000000</td>\n",
              "      <td>99622.000000</td>\n",
              "      <td>99622.000000</td>\n",
              "      <td>99622.000000</td>\n",
              "      <td>99622.000000</td>\n",
              "    </tr>\n",
              "    <tr>\n",
              "      <th>mean</th>\n",
              "      <td>11.342516</td>\n",
              "      <td>-72.440074</td>\n",
              "      <td>39.882427</td>\n",
              "      <td>-72.455499</td>\n",
              "      <td>39.889650</td>\n",
              "      <td>1.688352</td>\n",
              "    </tr>\n",
              "    <tr>\n",
              "      <th>std</th>\n",
              "      <td>9.821215</td>\n",
              "      <td>10.672429</td>\n",
              "      <td>6.284058</td>\n",
              "      <td>10.620103</td>\n",
              "      <td>6.263451</td>\n",
              "      <td>1.306984</td>\n",
              "    </tr>\n",
              "    <tr>\n",
              "      <th>min</th>\n",
              "      <td>0.010000</td>\n",
              "      <td>-121.391202</td>\n",
              "      <td>-74.015935</td>\n",
              "      <td>-121.391318</td>\n",
              "      <td>-74.011085</td>\n",
              "      <td>1.000000</td>\n",
              "    </tr>\n",
              "    <tr>\n",
              "      <th>25%</th>\n",
              "      <td>6.000000</td>\n",
              "      <td>-73.992133</td>\n",
              "      <td>40.734777</td>\n",
              "      <td>-73.991443</td>\n",
              "      <td>40.734021</td>\n",
              "      <td>1.000000</td>\n",
              "    </tr>\n",
              "    <tr>\n",
              "      <th>50%</th>\n",
              "      <td>8.500000</td>\n",
              "      <td>-73.981851</td>\n",
              "      <td>40.752457</td>\n",
              "      <td>-73.980215</td>\n",
              "      <td>40.753081</td>\n",
              "      <td>1.000000</td>\n",
              "    </tr>\n",
              "    <tr>\n",
              "      <th>75%</th>\n",
              "      <td>12.500000</td>\n",
              "      <td>-73.967171</td>\n",
              "      <td>40.767024</td>\n",
              "      <td>-73.963724</td>\n",
              "      <td>40.768036</td>\n",
              "      <td>2.000000</td>\n",
              "    </tr>\n",
              "    <tr>\n",
              "      <th>max</th>\n",
              "      <td>394.000000</td>\n",
              "      <td>40.801777</td>\n",
              "      <td>42.603366</td>\n",
              "      <td>40.787037</td>\n",
              "      <td>44.640672</td>\n",
              "      <td>6.000000</td>\n",
              "    </tr>\n",
              "  </tbody>\n",
              "</table>\n",
              "</div>\n",
              "      <button class=\"colab-df-convert\" onclick=\"convertToInteractive('df-1470b3bb-4575-4d72-b081-51e39936fe47')\"\n",
              "              title=\"Convert this dataframe to an interactive table.\"\n",
              "              style=\"display:none;\">\n",
              "        \n",
              "  <svg xmlns=\"http://www.w3.org/2000/svg\" height=\"24px\"viewBox=\"0 0 24 24\"\n",
              "       width=\"24px\">\n",
              "    <path d=\"M0 0h24v24H0V0z\" fill=\"none\"/>\n",
              "    <path d=\"M18.56 5.44l.94 2.06.94-2.06 2.06-.94-2.06-.94-.94-2.06-.94 2.06-2.06.94zm-11 1L8.5 8.5l.94-2.06 2.06-.94-2.06-.94L8.5 2.5l-.94 2.06-2.06.94zm10 10l.94 2.06.94-2.06 2.06-.94-2.06-.94-.94-2.06-.94 2.06-2.06.94z\"/><path d=\"M17.41 7.96l-1.37-1.37c-.4-.4-.92-.59-1.43-.59-.52 0-1.04.2-1.43.59L10.3 9.45l-7.72 7.72c-.78.78-.78 2.05 0 2.83L4 21.41c.39.39.9.59 1.41.59.51 0 1.02-.2 1.41-.59l7.78-7.78 2.81-2.81c.8-.78.8-2.07 0-2.86zM5.41 20L4 18.59l7.72-7.72 1.47 1.35L5.41 20z\"/>\n",
              "  </svg>\n",
              "      </button>\n",
              "      \n",
              "  <style>\n",
              "    .colab-df-container {\n",
              "      display:flex;\n",
              "      flex-wrap:wrap;\n",
              "      gap: 12px;\n",
              "    }\n",
              "\n",
              "    .colab-df-convert {\n",
              "      background-color: #E8F0FE;\n",
              "      border: none;\n",
              "      border-radius: 50%;\n",
              "      cursor: pointer;\n",
              "      display: none;\n",
              "      fill: #1967D2;\n",
              "      height: 32px;\n",
              "      padding: 0 0 0 0;\n",
              "      width: 32px;\n",
              "    }\n",
              "\n",
              "    .colab-df-convert:hover {\n",
              "      background-color: #E2EBFA;\n",
              "      box-shadow: 0px 1px 2px rgba(60, 64, 67, 0.3), 0px 1px 3px 1px rgba(60, 64, 67, 0.15);\n",
              "      fill: #174EA6;\n",
              "    }\n",
              "\n",
              "    [theme=dark] .colab-df-convert {\n",
              "      background-color: #3B4455;\n",
              "      fill: #D2E3FC;\n",
              "    }\n",
              "\n",
              "    [theme=dark] .colab-df-convert:hover {\n",
              "      background-color: #434B5C;\n",
              "      box-shadow: 0px 1px 3px 1px rgba(0, 0, 0, 0.15);\n",
              "      filter: drop-shadow(0px 1px 2px rgba(0, 0, 0, 0.3));\n",
              "      fill: #FFFFFF;\n",
              "    }\n",
              "  </style>\n",
              "\n",
              "      <script>\n",
              "        const buttonEl =\n",
              "          document.querySelector('#df-1470b3bb-4575-4d72-b081-51e39936fe47 button.colab-df-convert');\n",
              "        buttonEl.style.display =\n",
              "          google.colab.kernel.accessAllowed ? 'block' : 'none';\n",
              "\n",
              "        async function convertToInteractive(key) {\n",
              "          const element = document.querySelector('#df-1470b3bb-4575-4d72-b081-51e39936fe47');\n",
              "          const dataTable =\n",
              "            await google.colab.kernel.invokeFunction('convertToInteractive',\n",
              "                                                     [key], {});\n",
              "          if (!dataTable) return;\n",
              "\n",
              "          const docLinkHtml = 'Like what you see? Visit the ' +\n",
              "            '<a target=\"_blank\" href=https://colab.research.google.com/notebooks/data_table.ipynb>data table notebook</a>'\n",
              "            + ' to learn more about interactive tables.';\n",
              "          element.innerHTML = '';\n",
              "          dataTable['output_type'] = 'display_data';\n",
              "          await google.colab.output.renderOutput(dataTable, element);\n",
              "          const docLink = document.createElement('div');\n",
              "          docLink.innerHTML = docLinkHtml;\n",
              "          element.appendChild(docLink);\n",
              "        }\n",
              "      </script>\n",
              "    </div>\n",
              "  </div>\n",
              "  "
            ]
          },
          "metadata": {},
          "execution_count": 22
        }
      ]
    },
    {
      "cell_type": "code",
      "source": [
        "test.describe()"
      ],
      "metadata": {
        "colab": {
          "base_uri": "https://localhost:8080/",
          "height": 300
        },
        "id": "TUMp1HkX36aP",
        "outputId": "2a3edd34-049e-4f3c-a954-61fa1d2caad5"
      },
      "execution_count": 23,
      "outputs": [
        {
          "output_type": "execute_result",
          "data": {
            "text/plain": [
              "       pickup_longitude  pickup_latitude  dropoff_longitude  dropoff_latitude  \\\n",
              "count       9914.000000      9914.000000        9914.000000       9914.000000   \n",
              "mean         -73.974722        40.751041         -73.973657         40.751743   \n",
              "std            0.042774         0.033541           0.039072          0.035435   \n",
              "min          -74.252193        40.573143         -74.263242         40.568973   \n",
              "25%          -73.992501        40.736125         -73.991247         40.735254   \n",
              "50%          -73.982326        40.753051         -73.980015         40.754065   \n",
              "75%          -73.968013        40.767113         -73.964059         40.768757   \n",
              "max          -72.986532        41.709555         -72.990963         41.696683   \n",
              "\n",
              "       passenger_count  \n",
              "count      9914.000000  \n",
              "mean          1.671273  \n",
              "std           1.278747  \n",
              "min           1.000000  \n",
              "25%           1.000000  \n",
              "50%           1.000000  \n",
              "75%           2.000000  \n",
              "max           6.000000  "
            ],
            "text/html": [
              "\n",
              "  <div id=\"df-5a574544-386b-414b-b192-dc743ecc735a\">\n",
              "    <div class=\"colab-df-container\">\n",
              "      <div>\n",
              "<style scoped>\n",
              "    .dataframe tbody tr th:only-of-type {\n",
              "        vertical-align: middle;\n",
              "    }\n",
              "\n",
              "    .dataframe tbody tr th {\n",
              "        vertical-align: top;\n",
              "    }\n",
              "\n",
              "    .dataframe thead th {\n",
              "        text-align: right;\n",
              "    }\n",
              "</style>\n",
              "<table border=\"1\" class=\"dataframe\">\n",
              "  <thead>\n",
              "    <tr style=\"text-align: right;\">\n",
              "      <th></th>\n",
              "      <th>pickup_longitude</th>\n",
              "      <th>pickup_latitude</th>\n",
              "      <th>dropoff_longitude</th>\n",
              "      <th>dropoff_latitude</th>\n",
              "      <th>passenger_count</th>\n",
              "    </tr>\n",
              "  </thead>\n",
              "  <tbody>\n",
              "    <tr>\n",
              "      <th>count</th>\n",
              "      <td>9914.000000</td>\n",
              "      <td>9914.000000</td>\n",
              "      <td>9914.000000</td>\n",
              "      <td>9914.000000</td>\n",
              "      <td>9914.000000</td>\n",
              "    </tr>\n",
              "    <tr>\n",
              "      <th>mean</th>\n",
              "      <td>-73.974722</td>\n",
              "      <td>40.751041</td>\n",
              "      <td>-73.973657</td>\n",
              "      <td>40.751743</td>\n",
              "      <td>1.671273</td>\n",
              "    </tr>\n",
              "    <tr>\n",
              "      <th>std</th>\n",
              "      <td>0.042774</td>\n",
              "      <td>0.033541</td>\n",
              "      <td>0.039072</td>\n",
              "      <td>0.035435</td>\n",
              "      <td>1.278747</td>\n",
              "    </tr>\n",
              "    <tr>\n",
              "      <th>min</th>\n",
              "      <td>-74.252193</td>\n",
              "      <td>40.573143</td>\n",
              "      <td>-74.263242</td>\n",
              "      <td>40.568973</td>\n",
              "      <td>1.000000</td>\n",
              "    </tr>\n",
              "    <tr>\n",
              "      <th>25%</th>\n",
              "      <td>-73.992501</td>\n",
              "      <td>40.736125</td>\n",
              "      <td>-73.991247</td>\n",
              "      <td>40.735254</td>\n",
              "      <td>1.000000</td>\n",
              "    </tr>\n",
              "    <tr>\n",
              "      <th>50%</th>\n",
              "      <td>-73.982326</td>\n",
              "      <td>40.753051</td>\n",
              "      <td>-73.980015</td>\n",
              "      <td>40.754065</td>\n",
              "      <td>1.000000</td>\n",
              "    </tr>\n",
              "    <tr>\n",
              "      <th>75%</th>\n",
              "      <td>-73.968013</td>\n",
              "      <td>40.767113</td>\n",
              "      <td>-73.964059</td>\n",
              "      <td>40.768757</td>\n",
              "      <td>2.000000</td>\n",
              "    </tr>\n",
              "    <tr>\n",
              "      <th>max</th>\n",
              "      <td>-72.986532</td>\n",
              "      <td>41.709555</td>\n",
              "      <td>-72.990963</td>\n",
              "      <td>41.696683</td>\n",
              "      <td>6.000000</td>\n",
              "    </tr>\n",
              "  </tbody>\n",
              "</table>\n",
              "</div>\n",
              "      <button class=\"colab-df-convert\" onclick=\"convertToInteractive('df-5a574544-386b-414b-b192-dc743ecc735a')\"\n",
              "              title=\"Convert this dataframe to an interactive table.\"\n",
              "              style=\"display:none;\">\n",
              "        \n",
              "  <svg xmlns=\"http://www.w3.org/2000/svg\" height=\"24px\"viewBox=\"0 0 24 24\"\n",
              "       width=\"24px\">\n",
              "    <path d=\"M0 0h24v24H0V0z\" fill=\"none\"/>\n",
              "    <path d=\"M18.56 5.44l.94 2.06.94-2.06 2.06-.94-2.06-.94-.94-2.06-.94 2.06-2.06.94zm-11 1L8.5 8.5l.94-2.06 2.06-.94-2.06-.94L8.5 2.5l-.94 2.06-2.06.94zm10 10l.94 2.06.94-2.06 2.06-.94-2.06-.94-.94-2.06-.94 2.06-2.06.94z\"/><path d=\"M17.41 7.96l-1.37-1.37c-.4-.4-.92-.59-1.43-.59-.52 0-1.04.2-1.43.59L10.3 9.45l-7.72 7.72c-.78.78-.78 2.05 0 2.83L4 21.41c.39.39.9.59 1.41.59.51 0 1.02-.2 1.41-.59l7.78-7.78 2.81-2.81c.8-.78.8-2.07 0-2.86zM5.41 20L4 18.59l7.72-7.72 1.47 1.35L5.41 20z\"/>\n",
              "  </svg>\n",
              "      </button>\n",
              "      \n",
              "  <style>\n",
              "    .colab-df-container {\n",
              "      display:flex;\n",
              "      flex-wrap:wrap;\n",
              "      gap: 12px;\n",
              "    }\n",
              "\n",
              "    .colab-df-convert {\n",
              "      background-color: #E8F0FE;\n",
              "      border: none;\n",
              "      border-radius: 50%;\n",
              "      cursor: pointer;\n",
              "      display: none;\n",
              "      fill: #1967D2;\n",
              "      height: 32px;\n",
              "      padding: 0 0 0 0;\n",
              "      width: 32px;\n",
              "    }\n",
              "\n",
              "    .colab-df-convert:hover {\n",
              "      background-color: #E2EBFA;\n",
              "      box-shadow: 0px 1px 2px rgba(60, 64, 67, 0.3), 0px 1px 3px 1px rgba(60, 64, 67, 0.15);\n",
              "      fill: #174EA6;\n",
              "    }\n",
              "\n",
              "    [theme=dark] .colab-df-convert {\n",
              "      background-color: #3B4455;\n",
              "      fill: #D2E3FC;\n",
              "    }\n",
              "\n",
              "    [theme=dark] .colab-df-convert:hover {\n",
              "      background-color: #434B5C;\n",
              "      box-shadow: 0px 1px 3px 1px rgba(0, 0, 0, 0.15);\n",
              "      filter: drop-shadow(0px 1px 2px rgba(0, 0, 0, 0.3));\n",
              "      fill: #FFFFFF;\n",
              "    }\n",
              "  </style>\n",
              "\n",
              "      <script>\n",
              "        const buttonEl =\n",
              "          document.querySelector('#df-5a574544-386b-414b-b192-dc743ecc735a button.colab-df-convert');\n",
              "        buttonEl.style.display =\n",
              "          google.colab.kernel.accessAllowed ? 'block' : 'none';\n",
              "\n",
              "        async function convertToInteractive(key) {\n",
              "          const element = document.querySelector('#df-5a574544-386b-414b-b192-dc743ecc735a');\n",
              "          const dataTable =\n",
              "            await google.colab.kernel.invokeFunction('convertToInteractive',\n",
              "                                                     [key], {});\n",
              "          if (!dataTable) return;\n",
              "\n",
              "          const docLinkHtml = 'Like what you see? Visit the ' +\n",
              "            '<a target=\"_blank\" href=https://colab.research.google.com/notebooks/data_table.ipynb>data table notebook</a>'\n",
              "            + ' to learn more about interactive tables.';\n",
              "          element.innerHTML = '';\n",
              "          dataTable['output_type'] = 'display_data';\n",
              "          await google.colab.output.renderOutput(dataTable, element);\n",
              "          const docLink = document.createElement('div');\n",
              "          docLink.innerHTML = docLinkHtml;\n",
              "          element.appendChild(docLink);\n",
              "        }\n",
              "      </script>\n",
              "    </div>\n",
              "  </div>\n",
              "  "
            ]
          },
          "metadata": {},
          "execution_count": 23
        }
      ]
    },
    {
      "cell_type": "code",
      "source": [
        "train.plot(kind=\"scatter\",x=\"pickup_longitude\",y=\"pickup_latitude\",figsize=(10,7))\n",
        "plt.grid()\n",
        "plt.show()"
      ],
      "metadata": {
        "colab": {
          "base_uri": "https://localhost:8080/",
          "height": 498
        },
        "id": "POsF6xW34ETJ",
        "outputId": "caa81764-e129-452a-8d90-e33ecd06aebb"
      },
      "execution_count": 24,
      "outputs": [
        {
          "output_type": "stream",
          "name": "stderr",
          "text": [
            "/usr/local/lib/python3.9/dist-packages/pandas/plotting/_matplotlib/core.py:1114: UserWarning: No data for colormapping provided via 'c'. Parameters 'cmap' will be ignored\n",
            "  scatter = ax.scatter(\n"
          ]
        },
        {
          "output_type": "display_data",
          "data": {
            "text/plain": [
              "<Figure size 720x504 with 1 Axes>"
            ],
            "image/png": "[encoded data removed]"
          },
          "metadata": {
            "needs_background": "light"
          }
        }
      ]
    },
    {
      "cell_type": "markdown",
      "source": [
        "From the above scatter plot we can see that the range of latitude and longitude is quite large (beyond the range of new york city) New York Latitude and Longitude coordinates are :(40.7128° N , 74.0060° W ) \n",
        "\n",
        "So we will filter this latitudes(in range of 40.5 to 41.8) and longitudes(in range of -74.5 to -72.8) as we are building the model only for city."
      ],
      "metadata": {
        "id": "yIfgDgGC3pEG"
      }
    },
    {
      "cell_type": "code",
      "source": [
        "latitude_max = 41.8\n",
        "latitude_min = 40.5\n",
        "longitude_max = -72.8\n",
        "longitude_min = -74.5\n",
        "\n",
        "train = train.loc[train[\"pickup_latitude\"]<latitude_max]\n",
        "train = train.loc[train[\"pickup_latitude\"]>latitude_min]\n",
        "\n",
        "train = train.loc[train[\"dropoff_latitude\"]<latitude_max]\n",
        "train = train.loc[train[\"dropoff_latitude\"]>latitude_min]\n",
        "\n",
        "train = train.loc[train[\"pickup_longitude\"]<longitude_max]\n",
        "train = train.loc[train[\"pickup_longitude\"]>longitude_min]\n",
        "\n",
        "train = train.loc[train[\"dropoff_longitude\"]<longitude_max]\n",
        "train = train.loc[train[\"dropoff_longitude\"]>longitude_min]"
      ],
      "metadata": {
        "id": "oRIt8E5H3Rfz"
      },
      "execution_count": 25,
      "outputs": []
    },
    {
      "cell_type": "code",
      "source": [
        "print(\"Shape of Train: \", train.shape)"
      ],
      "metadata": {
        "colab": {
          "base_uri": "https://localhost:8080/"
        },
        "id": "3ZrRWbky-Z2x",
        "outputId": "92b89a91-3a87-4610-c522-5353b7182001"
      },
      "execution_count": 26,
      "outputs": [
        {
          "output_type": "stream",
          "name": "stdout",
          "text": [
            "Shape of Train:  (97454, 8)\n"
          ]
        }
      ]
    },
    {
      "cell_type": "code",
      "source": [
        "test = test.loc[test[\"pickup_latitude\"]<latitude_max]\n",
        "test = test.loc[test[\"pickup_latitude\"]>latitude_min]\n",
        "\n",
        "test = test.loc[test[\"dropoff_latitude\"]<latitude_max]\n",
        "test = test.loc[test[\"dropoff_latitude\"]>latitude_min]\n",
        "\n",
        "test = test.loc[test[\"pickup_longitude\"]<longitude_max]\n",
        "test = test.loc[test[\"pickup_longitude\"]>longitude_min]\n",
        "\n",
        "test = test.loc[test[\"dropoff_longitude\"]<longitude_max]\n",
        "test = test.loc[test[\"dropoff_longitude\"]>longitude_min]"
      ],
      "metadata": {
        "id": "va5uHM8X-DFz"
      },
      "execution_count": 27,
      "outputs": []
    },
    {
      "cell_type": "code",
      "source": [
        "print(\"Shape of Test: \", test.shape)"
      ],
      "metadata": {
        "colab": {
          "base_uri": "https://localhost:8080/"
        },
        "id": "xZYbxOwe-HgX",
        "outputId": "eb24ea8a-ec65-4366-cbdc-de04dadf8f05"
      },
      "execution_count": 28,
      "outputs": [
        {
          "output_type": "stream",
          "name": "stdout",
          "text": [
            "Shape of Test:  (9914, 7)\n"
          ]
        }
      ]
    },
    {
      "cell_type": "markdown",
      "source": [
        "**Converting Datatypes**"
      ],
      "metadata": {
        "id": "uf38xrhK-0wh"
      }
    },
    {
      "cell_type": "code",
      "source": [
        "## checking datatypes of various attributes in the train set and test set\n",
        "train.dtypes, test.dtypes"
      ],
      "metadata": {
        "colab": {
          "base_uri": "https://localhost:8080/"
        },
        "id": "UMWp6eTn-0B4",
        "outputId": "2564005d-c2d0-450a-9373-6916eec71e8c"
      },
      "execution_count": 29,
      "outputs": [
        {
          "output_type": "execute_result",
          "data": {
            "text/plain": [
              "(key                   object\n",
              " fare_amount          float64\n",
              " pickup_datetime       object\n",
              " pickup_longitude     float64\n",
              " pickup_latitude      float64\n",
              " dropoff_longitude    float64\n",
              " dropoff_latitude     float64\n",
              " passenger_count        int64\n",
              " dtype: object, key                   object\n",
              " pickup_datetime       object\n",
              " pickup_longitude     float64\n",
              " pickup_latitude      float64\n",
              " dropoff_longitude    float64\n",
              " dropoff_latitude     float64\n",
              " passenger_count        int64\n",
              " dtype: object)"
            ]
          },
          "metadata": {},
          "execution_count": 29
        }
      ]
    },
    {
      "cell_type": "markdown",
      "source": [
        "Here \"**key**\" and \"**pickup_datetime**\" have data type as **object** so we need to convert them into **datetime**"
      ],
      "metadata": {
        "id": "qbscNMsr_IPC"
      }
    },
    {
      "cell_type": "code",
      "source": [
        "## converting \"key\" and \"pickup_datetime\" to date_time\n",
        "train[\"key\"]=pd.to_datetime(train[\"key\"])\n",
        "train[\"pickup_datetime\"]=pd.to_datetime(train[\"pickup_datetime\"])\n",
        "test[\"key\"]=pd.to_datetime(test[\"key\"])\n",
        "test[\"pickup_datetime\"]=pd.to_datetime(test[\"pickup_datetime\"])"
      ],
      "metadata": {
        "id": "kWsa7che-WFL"
      },
      "execution_count": 30,
      "outputs": []
    },
    {
      "cell_type": "markdown",
      "source": [
        "Splitting the datetime field 'pickup_datetime' to the following -\n",
        "\n",
        "*  hour\n",
        "*  day of week\n",
        "*  day of month\n",
        "*  week\n",
        "*  month\n",
        "*  year"
      ],
      "metadata": {
        "id": "JR5NXMlI_cCd"
      }
    },
    {
      "cell_type": "code",
      "source": [
        "data = [train,test]\n",
        "for i in data:\n",
        "    i['Year'] = i['pickup_datetime'].dt.year\n",
        "    i['Month'] = i['pickup_datetime'].dt.month\n",
        "    i['Date'] = i['pickup_datetime'].dt.day\n",
        "    i['Day of Week'] = i['pickup_datetime'].dt.dayofweek\n",
        "    i['Hour'] = i['pickup_datetime'].dt.hour"
      ],
      "metadata": {
        "id": "_TP0QCnL_Q9y"
      },
      "execution_count": 31,
      "outputs": []
    },
    {
      "cell_type": "code",
      "source": [
        "# Remove the pickup_datetime column since it's no longer needed\n",
        "train = train.drop(['pickup_datetime'], axis=1)\n",
        "test = test.drop(['pickup_datetime'], axis=1)\n"
      ],
      "metadata": {
        "id": "Y5LSDiMM_6XE"
      },
      "execution_count": 32,
      "outputs": []
    },
    {
      "cell_type": "code",
      "source": [
        "# Also removing the key column\n",
        "train = train.drop(['key'], axis=1)\n",
        "test = test.drop(['key'], axis=1)"
      ],
      "metadata": {
        "id": "cnakNea_ADen"
      },
      "execution_count": 33,
      "outputs": []
    },
    {
      "cell_type": "code",
      "source": [
        "def haversine_distance(lat1, long1, lat2, long2):\n",
        "    data = [train, test]\n",
        "    for i in data:\n",
        "        R = 6371  #radius of earth in kilometers\n",
        "        phi1 = np.radians(i[lat1])\n",
        "        phi2 = np.radians(i[lat2])\n",
        "    \n",
        "        delta_phi = np.radians(i[lat2]-i[lat1])\n",
        "        delta_lambda = np.radians(i[long2]-i[long1])\n",
        "    \n",
        "        #a = sin²((φB - φA)/2) + cos φA . cos φB . sin²((λB - λA)/2)\n",
        "        a = np.sin(delta_phi / 2.0) ** 2 + np.cos(phi1) * np.cos(phi2) * np.sin(delta_lambda / 2.0) ** 2\n",
        "    \n",
        "        #c = 2 * atan2( √a, √(1−a) )\n",
        "        c = 2 * np.arctan2(np.sqrt(a), np.sqrt(1-a))\n",
        "    \n",
        "        #d = R*c\n",
        "        d = (R * c) #in kilometers\n",
        "        i['H_Distance'] = d\n",
        "    return d"
      ],
      "metadata": {
        "id": "6nSRzIE8_pmW"
      },
      "execution_count": 34,
      "outputs": []
    },
    {
      "cell_type": "code",
      "source": [
        "## calculating the Haversine distance and adding this values in the new feature : \"H_distance\"\n",
        "haversine_distance('pickup_latitude', 'pickup_longitude', 'dropoff_latitude', 'dropoff_longitude') ##in kilometers"
      ],
      "metadata": {
        "colab": {
          "base_uri": "https://localhost:8080/"
        },
        "id": "SKJYyj6d_trW",
        "outputId": "4757c255-06ea-4b4a-ea99-3faa35e1cab7"
      },
      "execution_count": 35,
      "outputs": [
        {
          "output_type": "execute_result",
          "data": {
            "text/plain": [
              "0        2.323260\n",
              "1        2.425353\n",
              "2        0.618628\n",
              "3        1.961033\n",
              "4        5.387301\n",
              "          ...    \n",
              "9909     2.124874\n",
              "9910     3.270969\n",
              "9911    19.183941\n",
              "9912     8.343486\n",
              "9913     1.180825\n",
              "Length: 9914, dtype: float64"
            ]
          },
          "metadata": {},
          "execution_count": 35
        }
      ]
    },
    {
      "cell_type": "code",
      "source": [
        "train.head()"
      ],
      "metadata": {
        "colab": {
          "base_uri": "https://localhost:8080/",
          "height": 267
        },
        "id": "AIIsInt-_1Ym",
        "outputId": "cc6a05b1-54b0-46ef-e5f8-6f518fdea685"
      },
      "execution_count": 36,
      "outputs": [
        {
          "output_type": "execute_result",
          "data": {
            "text/plain": [
              "   fare_amount  pickup_longitude  pickup_latitude  dropoff_longitude  \\\n",
              "0          4.9        -73.998287        40.727490         -73.989854   \n",
              "1          4.9        -73.966597        40.794345         -73.965682   \n",
              "2          6.9        -73.971638        40.763382         -73.953767   \n",
              "3         14.1        -74.003545        40.707399         -73.981312   \n",
              "4         12.1        -74.004532        40.707465         -73.977908   \n",
              "\n",
              "   dropoff_latitude  passenger_count  Year  Month  Date  Day of Week  Hour  \\\n",
              "0         40.735239                2  2009      4     8            2    19   \n",
              "1         40.803808                2  2012      7    30            0    16   \n",
              "2         40.783715                1  2011      2    22            1    13   \n",
              "3         40.750071                1  2010     10     7            3    21   \n",
              "4         40.745633                5  2009     10     2            4    22   \n",
              "\n",
              "   H_Distance  \n",
              "0    1.116850  \n",
              "1    1.055053  \n",
              "2    2.715959  \n",
              "3    5.101370  \n",
              "4    4.800593  "
            ],
            "text/html": [
              "\n",
              "  <div id=\"df-cc8a88ce-fd78-4be8-88f2-8c8f3fa3eb29\">\n",
              "    <div class=\"colab-df-container\">\n",
              "      <div>\n",
              "<style scoped>\n",
              "    .dataframe tbody tr th:only-of-type {\n",
              "        vertical-align: middle;\n",
              "    }\n",
              "\n",
              "    .dataframe tbody tr th {\n",
              "        vertical-align: top;\n",
              "    }\n",
              "\n",
              "    .dataframe thead th {\n",
              "        text-align: right;\n",
              "    }\n",
              "</style>\n",
              "<table border=\"1\" class=\"dataframe\">\n",
              "  <thead>\n",
              "    <tr style=\"text-align: right;\">\n",
              "      <th></th>\n",
              "      <th>fare_amount</th>\n",
              "      <th>pickup_longitude</th>\n",
              "      <th>pickup_latitude</th>\n",
              "      <th>dropoff_longitude</th>\n",
              "      <th>dropoff_latitude</th>\n",
              "      <th>passenger_count</th>\n",
              "      <th>Year</th>\n",
              "      <th>Month</th>\n",
              "      <th>Date</th>\n",
              "      <th>Day of Week</th>\n",
              "      <th>Hour</th>\n",
              "      <th>H_Distance</th>\n",
              "    </tr>\n",
              "  </thead>\n",
              "  <tbody>\n",
              "    <tr>\n",
              "      <th>0</th>\n",
              "      <td>4.9</td>\n",
              "      <td>-73.998287</td>\n",
              "      <td>40.727490</td>\n",
              "      <td>-73.989854</td>\n",
              "      <td>40.735239</td>\n",
              "      <td>2</td>\n",
              "      <td>2009</td>\n",
              "      <td>4</td>\n",
              "      <td>8</td>\n",
              "      <td>2</td>\n",
              "      <td>19</td>\n",
              "      <td>1.116850</td>\n",
              "    </tr>\n",
              "    <tr>\n",
              "      <th>1</th>\n",
              "      <td>4.9</td>\n",
              "      <td>-73.966597</td>\n",
              "      <td>40.794345</td>\n",
              "      <td>-73.965682</td>\n",
              "      <td>40.803808</td>\n",
              "      <td>2</td>\n",
              "      <td>2012</td>\n",
              "      <td>7</td>\n",
              "      <td>30</td>\n",
              "      <td>0</td>\n",
              "      <td>16</td>\n",
              "      <td>1.055053</td>\n",
              "    </tr>\n",
              "    <tr>\n",
              "      <th>2</th>\n",
              "      <td>6.9</td>\n",
              "      <td>-73.971638</td>\n",
              "      <td>40.763382</td>\n",
              "      <td>-73.953767</td>\n",
              "      <td>40.783715</td>\n",
              "      <td>1</td>\n",
              "      <td>2011</td>\n",
              "      <td>2</td>\n",
              "      <td>22</td>\n",
              "      <td>1</td>\n",
              "      <td>13</td>\n",
              "      <td>2.715959</td>\n",
              "    </tr>\n",
              "    <tr>\n",
              "      <th>3</th>\n",
              "      <td>14.1</td>\n",
              "      <td>-74.003545</td>\n",
              "      <td>40.707399</td>\n",
              "      <td>-73.981312</td>\n",
              "      <td>40.750071</td>\n",
              "      <td>1</td>\n",
              "      <td>2010</td>\n",
              "      <td>10</td>\n",
              "      <td>7</td>\n",
              "      <td>3</td>\n",
              "      <td>21</td>\n",
              "      <td>5.101370</td>\n",
              "    </tr>\n",
              "    <tr>\n",
              "      <th>4</th>\n",
              "      <td>12.1</td>\n",
              "      <td>-74.004532</td>\n",
              "      <td>40.707465</td>\n",
              "      <td>-73.977908</td>\n",
              "      <td>40.745633</td>\n",
              "      <td>5</td>\n",
              "      <td>2009</td>\n",
              "      <td>10</td>\n",
              "      <td>2</td>\n",
              "      <td>4</td>\n",
              "      <td>22</td>\n",
              "      <td>4.800593</td>\n",
              "    </tr>\n",
              "  </tbody>\n",
              "</table>\n",
              "</div>\n",
              "      <button class=\"colab-df-convert\" onclick=\"convertToInteractive('df-cc8a88ce-fd78-4be8-88f2-8c8f3fa3eb29')\"\n",
              "              title=\"Convert this dataframe to an interactive table.\"\n",
              "              style=\"display:none;\">\n",
              "        \n",
              "  <svg xmlns=\"http://www.w3.org/2000/svg\" height=\"24px\"viewBox=\"0 0 24 24\"\n",
              "       width=\"24px\">\n",
              "    <path d=\"M0 0h24v24H0V0z\" fill=\"none\"/>\n",
              "    <path d=\"M18.56 5.44l.94 2.06.94-2.06 2.06-.94-2.06-.94-.94-2.06-.94 2.06-2.06.94zm-11 1L8.5 8.5l.94-2.06 2.06-.94-2.06-.94L8.5 2.5l-.94 2.06-2.06.94zm10 10l.94 2.06.94-2.06 2.06-.94-2.06-.94-.94-2.06-.94 2.06-2.06.94z\"/><path d=\"M17.41 7.96l-1.37-1.37c-.4-.4-.92-.59-1.43-.59-.52 0-1.04.2-1.43.59L10.3 9.45l-7.72 7.72c-.78.78-.78 2.05 0 2.83L4 21.41c.39.39.9.59 1.41.59.51 0 1.02-.2 1.41-.59l7.78-7.78 2.81-2.81c.8-.78.8-2.07 0-2.86zM5.41 20L4 18.59l7.72-7.72 1.47 1.35L5.41 20z\"/>\n",
              "  </svg>\n",
              "      </button>\n",
              "      \n",
              "  <style>\n",
              "    .colab-df-container {\n",
              "      display:flex;\n",
              "      flex-wrap:wrap;\n",
              "      gap: 12px;\n",
              "    }\n",
              "\n",
              "    .colab-df-convert {\n",
              "      background-color: #E8F0FE;\n",
              "      border: none;\n",
              "      border-radius: 50%;\n",
              "      cursor: pointer;\n",
              "      display: none;\n",
              "      fill: #1967D2;\n",
              "      height: 32px;\n",
              "      padding: 0 0 0 0;\n",
              "      width: 32px;\n",
              "    }\n",
              "\n",
              "    .colab-df-convert:hover {\n",
              "      background-color: #E2EBFA;\n",
              "      box-shadow: 0px 1px 2px rgba(60, 64, 67, 0.3), 0px 1px 3px 1px rgba(60, 64, 67, 0.15);\n",
              "      fill: #174EA6;\n",
              "    }\n",
              "\n",
              "    [theme=dark] .colab-df-convert {\n",
              "      background-color: #3B4455;\n",
              "      fill: #D2E3FC;\n",
              "    }\n",
              "\n",
              "    [theme=dark] .colab-df-convert:hover {\n",
              "      background-color: #434B5C;\n",
              "      box-shadow: 0px 1px 3px 1px rgba(0, 0, 0, 0.15);\n",
              "      filter: drop-shadow(0px 1px 2px rgba(0, 0, 0, 0.3));\n",
              "      fill: #FFFFFF;\n",
              "    }\n",
              "  </style>\n",
              "\n",
              "      <script>\n",
              "        const buttonEl =\n",
              "          document.querySelector('#df-cc8a88ce-fd78-4be8-88f2-8c8f3fa3eb29 button.colab-df-convert');\n",
              "        buttonEl.style.display =\n",
              "          google.colab.kernel.accessAllowed ? 'block' : 'none';\n",
              "\n",
              "        async function convertToInteractive(key) {\n",
              "          const element = document.querySelector('#df-cc8a88ce-fd78-4be8-88f2-8c8f3fa3eb29');\n",
              "          const dataTable =\n",
              "            await google.colab.kernel.invokeFunction('convertToInteractive',\n",
              "                                                     [key], {});\n",
              "          if (!dataTable) return;\n",
              "\n",
              "          const docLinkHtml = 'Like what you see? Visit the ' +\n",
              "            '<a target=\"_blank\" href=https://colab.research.google.com/notebooks/data_table.ipynb>data table notebook</a>'\n",
              "            + ' to learn more about interactive tables.';\n",
              "          element.innerHTML = '';\n",
              "          dataTable['output_type'] = 'display_data';\n",
              "          await google.colab.output.renderOutput(dataTable, element);\n",
              "          const docLink = document.createElement('div');\n",
              "          docLink.innerHTML = docLinkHtml;\n",
              "          element.appendChild(docLink);\n",
              "        }\n",
              "      </script>\n",
              "    </div>\n",
              "  </div>\n",
              "  "
            ]
          },
          "metadata": {},
          "execution_count": 36
        }
      ]
    },
    {
      "cell_type": "code",
      "source": [
        "test.head()"
      ],
      "metadata": {
        "colab": {
          "base_uri": "https://localhost:8080/",
          "height": 206
        },
        "id": "BEQI1FxfAOqO",
        "outputId": "ad2dd1da-6d2a-4ed4-8d9e-0f36f94529ca"
      },
      "execution_count": 37,
      "outputs": [
        {
          "output_type": "execute_result",
          "data": {
            "text/plain": [
              "   pickup_longitude  pickup_latitude  dropoff_longitude  dropoff_latitude  \\\n",
              "0        -73.973320        40.763805         -73.981430         40.743835   \n",
              "1        -73.986862        40.719383         -73.998886         40.739201   \n",
              "2        -73.982524        40.751260         -73.979654         40.746139   \n",
              "3        -73.981160        40.767807         -73.990448         40.751635   \n",
              "4        -73.966046        40.789775         -73.988565         40.744427   \n",
              "\n",
              "   passenger_count  Year  Month  Date  Day of Week  Hour  H_Distance  \n",
              "0                1  2015      1    27            1    13    2.323260  \n",
              "1                1  2015      1    27            1    13    2.425353  \n",
              "2                1  2011     10     8            5    11    0.618628  \n",
              "3                1  2012     12     1            5    21    1.961033  \n",
              "4                1  2012     12     1            5    21    5.387301  "
            ],
            "text/html": [
              "\n",
              "  <div id=\"df-240bd94d-38d1-4e17-8cb4-23698122e1dd\">\n",
              "    <div class=\"colab-df-container\">\n",
              "      <div>\n",
              "<style scoped>\n",
              "    .dataframe tbody tr th:only-of-type {\n",
              "        vertical-align: middle;\n",
              "    }\n",
              "\n",
              "    .dataframe tbody tr th {\n",
              "        vertical-align: top;\n",
              "    }\n",
              "\n",
              "    .dataframe thead th {\n",
              "        text-align: right;\n",
              "    }\n",
              "</style>\n",
              "<table border=\"1\" class=\"dataframe\">\n",
              "  <thead>\n",
              "    <tr style=\"text-align: right;\">\n",
              "      <th></th>\n",
              "      <th>pickup_longitude</th>\n",
              "      <th>pickup_latitude</th>\n",
              "      <th>dropoff_longitude</th>\n",
              "      <th>dropoff_latitude</th>\n",
              "      <th>passenger_count</th>\n",
              "      <th>Year</th>\n",
              "      <th>Month</th>\n",
              "      <th>Date</th>\n",
              "      <th>Day of Week</th>\n",
              "      <th>Hour</th>\n",
              "      <th>H_Distance</th>\n",
              "    </tr>\n",
              "  </thead>\n",
              "  <tbody>\n",
              "    <tr>\n",
              "      <th>0</th>\n",
              "      <td>-73.973320</td>\n",
              "      <td>40.763805</td>\n",
              "      <td>-73.981430</td>\n",
              "      <td>40.743835</td>\n",
              "      <td>1</td>\n",
              "      <td>2015</td>\n",
              "      <td>1</td>\n",
              "      <td>27</td>\n",
              "      <td>1</td>\n",
              "      <td>13</td>\n",
              "      <td>2.323260</td>\n",
              "    </tr>\n",
              "    <tr>\n",
              "      <th>1</th>\n",
              "      <td>-73.986862</td>\n",
              "      <td>40.719383</td>\n",
              "      <td>-73.998886</td>\n",
              "      <td>40.739201</td>\n",
              "      <td>1</td>\n",
              "      <td>2015</td>\n",
              "      <td>1</td>\n",
              "      <td>27</td>\n",
              "      <td>1</td>\n",
              "      <td>13</td>\n",
              "      <td>2.425353</td>\n",
              "    </tr>\n",
              "    <tr>\n",
              "      <th>2</th>\n",
              "      <td>-73.982524</td>\n",
              "      <td>40.751260</td>\n",
              "      <td>-73.979654</td>\n",
              "      <td>40.746139</td>\n",
              "      <td>1</td>\n",
              "      <td>2011</td>\n",
              "      <td>10</td>\n",
              "      <td>8</td>\n",
              "      <td>5</td>\n",
              "      <td>11</td>\n",
              "      <td>0.618628</td>\n",
              "    </tr>\n",
              "    <tr>\n",
              "      <th>3</th>\n",
              "      <td>-73.981160</td>\n",
              "      <td>40.767807</td>\n",
              "      <td>-73.990448</td>\n",
              "      <td>40.751635</td>\n",
              "      <td>1</td>\n",
              "      <td>2012</td>\n",
              "      <td>12</td>\n",
              "      <td>1</td>\n",
              "      <td>5</td>\n",
              "      <td>21</td>\n",
              "      <td>1.961033</td>\n",
              "    </tr>\n",
              "    <tr>\n",
              "      <th>4</th>\n",
              "      <td>-73.966046</td>\n",
              "      <td>40.789775</td>\n",
              "      <td>-73.988565</td>\n",
              "      <td>40.744427</td>\n",
              "      <td>1</td>\n",
              "      <td>2012</td>\n",
              "      <td>12</td>\n",
              "      <td>1</td>\n",
              "      <td>5</td>\n",
              "      <td>21</td>\n",
              "      <td>5.387301</td>\n",
              "    </tr>\n",
              "  </tbody>\n",
              "</table>\n",
              "</div>\n",
              "      <button class=\"colab-df-convert\" onclick=\"convertToInteractive('df-240bd94d-38d1-4e17-8cb4-23698122e1dd')\"\n",
              "              title=\"Convert this dataframe to an interactive table.\"\n",
              "              style=\"display:none;\">\n",
              "        \n",
              "  <svg xmlns=\"http://www.w3.org/2000/svg\" height=\"24px\"viewBox=\"0 0 24 24\"\n",
              "       width=\"24px\">\n",
              "    <path d=\"M0 0h24v24H0V0z\" fill=\"none\"/>\n",
              "    <path d=\"M18.56 5.44l.94 2.06.94-2.06 2.06-.94-2.06-.94-.94-2.06-.94 2.06-2.06.94zm-11 1L8.5 8.5l.94-2.06 2.06-.94-2.06-.94L8.5 2.5l-.94 2.06-2.06.94zm10 10l.94 2.06.94-2.06 2.06-.94-2.06-.94-.94-2.06-.94 2.06-2.06.94z\"/><path d=\"M17.41 7.96l-1.37-1.37c-.4-.4-.92-.59-1.43-.59-.52 0-1.04.2-1.43.59L10.3 9.45l-7.72 7.72c-.78.78-.78 2.05 0 2.83L4 21.41c.39.39.9.59 1.41.59.51 0 1.02-.2 1.41-.59l7.78-7.78 2.81-2.81c.8-.78.8-2.07 0-2.86zM5.41 20L4 18.59l7.72-7.72 1.47 1.35L5.41 20z\"/>\n",
              "  </svg>\n",
              "      </button>\n",
              "      \n",
              "  <style>\n",
              "    .colab-df-container {\n",
              "      display:flex;\n",
              "      flex-wrap:wrap;\n",
              "      gap: 12px;\n",
              "    }\n",
              "\n",
              "    .colab-df-convert {\n",
              "      background-color: #E8F0FE;\n",
              "      border: none;\n",
              "      border-radius: 50%;\n",
              "      cursor: pointer;\n",
              "      display: none;\n",
              "      fill: #1967D2;\n",
              "      height: 32px;\n",
              "      padding: 0 0 0 0;\n",
              "      width: 32px;\n",
              "    }\n",
              "\n",
              "    .colab-df-convert:hover {\n",
              "      background-color: #E2EBFA;\n",
              "      box-shadow: 0px 1px 2px rgba(60, 64, 67, 0.3), 0px 1px 3px 1px rgba(60, 64, 67, 0.15);\n",
              "      fill: #174EA6;\n",
              "    }\n",
              "\n",
              "    [theme=dark] .colab-df-convert {\n",
              "      background-color: #3B4455;\n",
              "      fill: #D2E3FC;\n",
              "    }\n",
              "\n",
              "    [theme=dark] .colab-df-convert:hover {\n",
              "      background-color: #434B5C;\n",
              "      box-shadow: 0px 1px 3px 1px rgba(0, 0, 0, 0.15);\n",
              "      filter: drop-shadow(0px 1px 2px rgba(0, 0, 0, 0.3));\n",
              "      fill: #FFFFFF;\n",
              "    }\n",
              "  </style>\n",
              "\n",
              "      <script>\n",
              "        const buttonEl =\n",
              "          document.querySelector('#df-240bd94d-38d1-4e17-8cb4-23698122e1dd button.colab-df-convert');\n",
              "        buttonEl.style.display =\n",
              "          google.colab.kernel.accessAllowed ? 'block' : 'none';\n",
              "\n",
              "        async function convertToInteractive(key) {\n",
              "          const element = document.querySelector('#df-240bd94d-38d1-4e17-8cb4-23698122e1dd');\n",
              "          const dataTable =\n",
              "            await google.colab.kernel.invokeFunction('convertToInteractive',\n",
              "                                                     [key], {});\n",
              "          if (!dataTable) return;\n",
              "\n",
              "          const docLinkHtml = 'Like what you see? Visit the ' +\n",
              "            '<a target=\"_blank\" href=https://colab.research.google.com/notebooks/data_table.ipynb>data table notebook</a>'\n",
              "            + ' to learn more about interactive tables.';\n",
              "          element.innerHTML = '';\n",
              "          dataTable['output_type'] = 'display_data';\n",
              "          await google.colab.output.renderOutput(dataTable, element);\n",
              "          const docLink = document.createElement('div');\n",
              "          docLink.innerHTML = docLinkHtml;\n",
              "          element.appendChild(docLink);\n",
              "        }\n",
              "      </script>\n",
              "    </div>\n",
              "  </div>\n",
              "  "
            ]
          },
          "metadata": {},
          "execution_count": 37
        }
      ]
    },
    {
      "cell_type": "code",
      "source": [
        "# Dropping irrevelant distance values\n",
        "train= train.loc[train[\"H_Distance\"]>0]\n",
        "test= test.loc[test[\"H_Distance\"]>0]"
      ],
      "metadata": {
        "id": "nSi0ugeYAUgU"
      },
      "execution_count": 38,
      "outputs": []
    },
    {
      "cell_type": "code",
      "source": [
        "from sklearn.preprocessing import StandardScaler\n",
        "\n",
        "standard_scaler = StandardScaler()\n",
        "train_scaled = pd.DataFrame(standard_scaler.fit_transform(train),columns=train.columns)\n",
        "test_scaled = pd.DataFrame(standard_scaler.fit_transform(test),columns=test.columns)\n"
      ],
      "metadata": {
        "id": "pujhcGasRF8j"
      },
      "execution_count": 39,
      "outputs": []
    },
    {
      "cell_type": "code",
      "source": [
        "# create X and y values (features and labels)\n",
        "X = train_scaled.drop(\"fare_amount\",axis=1)\n",
        "y = train_scaled['fare_amount']"
      ],
      "metadata": {
        "id": "1YMMgZlLey40"
      },
      "execution_count": 40,
      "outputs": []
    },
    {
      "cell_type": "code",
      "source": [
        "X.head()"
      ],
      "metadata": {
        "colab": {
          "base_uri": "https://localhost:8080/",
          "height": 287
        },
        "id": "YlMkgfEgozKm",
        "outputId": "d863b7f2-412b-4f49-bd0d-e1ff736a3d4f"
      },
      "execution_count": 41,
      "outputs": [
        {
          "output_type": "execute_result",
          "data": {
            "text/plain": [
              "   pickup_longitude  pickup_latitude  dropoff_longitude  dropoff_latitude  \\\n",
              "0         -0.632151        -0.838975          -0.436248         -0.514699   \n",
              "1          0.245833         1.554317           0.262125          1.682577   \n",
              "2          0.106170         0.445896           0.606371          1.038702   \n",
              "3         -0.777826        -1.558197          -0.189454         -0.039411   \n",
              "4         -0.805171        -1.555835          -0.091106         -0.181626   \n",
              "\n",
              "   passenger_count      Year     Month      Date  Day of Week      Hour  \\\n",
              "0         0.239427 -1.469139 -0.660233 -0.884221    -0.527859  0.842335   \n",
              "1         0.239427  0.138243  0.212896  1.647198    -1.553198  0.381766   \n",
              "2        -0.526611 -0.397551 -1.242319  0.726682    -1.040529 -0.078803   \n",
              "3        -0.526611 -0.933345  1.086025 -0.999285    -0.015189  1.149381   \n",
              "4         2.537540 -1.469139  1.086025 -1.574608     0.497481  1.302904   \n",
              "\n",
              "   H_Distance  \n",
              "0   -0.590303  \n",
              "1   -0.606527  \n",
              "2   -0.170488  \n",
              "3    0.455756  \n",
              "4    0.376793  "
            ],
            "text/html": [
              "\n",
              "  <div id=\"df-2b10b743-7b73-4ab6-b76a-e73c017c94ab\">\n",
              "    <div class=\"colab-df-container\">\n",
              "      <div>\n",
              "<style scoped>\n",
              "    .dataframe tbody tr th:only-of-type {\n",
              "        vertical-align: middle;\n",
              "    }\n",
              "\n",
              "    .dataframe tbody tr th {\n",
              "        vertical-align: top;\n",
              "    }\n",
              "\n",
              "    .dataframe thead th {\n",
              "        text-align: right;\n",
              "    }\n",
              "</style>\n",
              "<table border=\"1\" class=\"dataframe\">\n",
              "  <thead>\n",
              "    <tr style=\"text-align: right;\">\n",
              "      <th></th>\n",
              "      <th>pickup_longitude</th>\n",
              "      <th>pickup_latitude</th>\n",
              "      <th>dropoff_longitude</th>\n",
              "      <th>dropoff_latitude</th>\n",
              "      <th>passenger_count</th>\n",
              "      <th>Year</th>\n",
              "      <th>Month</th>\n",
              "      <th>Date</th>\n",
              "      <th>Day of Week</th>\n",
              "      <th>Hour</th>\n",
              "      <th>H_Distance</th>\n",
              "    </tr>\n",
              "  </thead>\n",
              "  <tbody>\n",
              "    <tr>\n",
              "      <th>0</th>\n",
              "      <td>-0.632151</td>\n",
              "      <td>-0.838975</td>\n",
              "      <td>-0.436248</td>\n",
              "      <td>-0.514699</td>\n",
              "      <td>0.239427</td>\n",
              "      <td>-1.469139</td>\n",
              "      <td>-0.660233</td>\n",
              "      <td>-0.884221</td>\n",
              "      <td>-0.527859</td>\n",
              "      <td>0.842335</td>\n",
              "      <td>-0.590303</td>\n",
              "    </tr>\n",
              "    <tr>\n",
              "      <th>1</th>\n",
              "      <td>0.245833</td>\n",
              "      <td>1.554317</td>\n",
              "      <td>0.262125</td>\n",
              "      <td>1.682577</td>\n",
              "      <td>0.239427</td>\n",
              "      <td>0.138243</td>\n",
              "      <td>0.212896</td>\n",
              "      <td>1.647198</td>\n",
              "      <td>-1.553198</td>\n",
              "      <td>0.381766</td>\n",
              "      <td>-0.606527</td>\n",
              "    </tr>\n",
              "    <tr>\n",
              "      <th>2</th>\n",
              "      <td>0.106170</td>\n",
              "      <td>0.445896</td>\n",
              "      <td>0.606371</td>\n",
              "      <td>1.038702</td>\n",
              "      <td>-0.526611</td>\n",
              "      <td>-0.397551</td>\n",
              "      <td>-1.242319</td>\n",
              "      <td>0.726682</td>\n",
              "      <td>-1.040529</td>\n",
              "      <td>-0.078803</td>\n",
              "      <td>-0.170488</td>\n",
              "    </tr>\n",
              "    <tr>\n",
              "      <th>3</th>\n",
              "      <td>-0.777826</td>\n",
              "      <td>-1.558197</td>\n",
              "      <td>-0.189454</td>\n",
              "      <td>-0.039411</td>\n",
              "      <td>-0.526611</td>\n",
              "      <td>-0.933345</td>\n",
              "      <td>1.086025</td>\n",
              "      <td>-0.999285</td>\n",
              "      <td>-0.015189</td>\n",
              "      <td>1.149381</td>\n",
              "      <td>0.455756</td>\n",
              "    </tr>\n",
              "    <tr>\n",
              "      <th>4</th>\n",
              "      <td>-0.805171</td>\n",
              "      <td>-1.555835</td>\n",
              "      <td>-0.091106</td>\n",
              "      <td>-0.181626</td>\n",
              "      <td>2.537540</td>\n",
              "      <td>-1.469139</td>\n",
              "      <td>1.086025</td>\n",
              "      <td>-1.574608</td>\n",
              "      <td>0.497481</td>\n",
              "      <td>1.302904</td>\n",
              "      <td>0.376793</td>\n",
              "    </tr>\n",
              "  </tbody>\n",
              "</table>\n",
              "</div>\n",
              "      <button class=\"colab-df-convert\" onclick=\"convertToInteractive('df-2b10b743-7b73-4ab6-b76a-e73c017c94ab')\"\n",
              "              title=\"Convert this dataframe to an interactive table.\"\n",
              "              style=\"display:none;\">\n",
              "        \n",
              "  <svg xmlns=\"http://www.w3.org/2000/svg\" height=\"24px\"viewBox=\"0 0 24 24\"\n",
              "       width=\"24px\">\n",
              "    <path d=\"M0 0h24v24H0V0z\" fill=\"none\"/>\n",
              "    <path d=\"M18.56 5.44l.94 2.06.94-2.06 2.06-.94-2.06-.94-.94-2.06-.94 2.06-2.06.94zm-11 1L8.5 8.5l.94-2.06 2.06-.94-2.06-.94L8.5 2.5l-.94 2.06-2.06.94zm10 10l.94 2.06.94-2.06 2.06-.94-2.06-.94-.94-2.06-.94 2.06-2.06.94z\"/><path d=\"M17.41 7.96l-1.37-1.37c-.4-.4-.92-.59-1.43-.59-.52 0-1.04.2-1.43.59L10.3 9.45l-7.72 7.72c-.78.78-.78 2.05 0 2.83L4 21.41c.39.39.9.59 1.41.59.51 0 1.02-.2 1.41-.59l7.78-7.78 2.81-2.81c.8-.78.8-2.07 0-2.86zM5.41 20L4 18.59l7.72-7.72 1.47 1.35L5.41 20z\"/>\n",
              "  </svg>\n",
              "      </button>\n",
              "      \n",
              "  <style>\n",
              "    .colab-df-container {\n",
              "      display:flex;\n",
              "      flex-wrap:wrap;\n",
              "      gap: 12px;\n",
              "    }\n",
              "\n",
              "    .colab-df-convert {\n",
              "      background-color: #E8F0FE;\n",
              "      border: none;\n",
              "      border-radius: 50%;\n",
              "      cursor: pointer;\n",
              "      display: none;\n",
              "      fill: #1967D2;\n",
              "      height: 32px;\n",
              "      padding: 0 0 0 0;\n",
              "      width: 32px;\n",
              "    }\n",
              "\n",
              "    .colab-df-convert:hover {\n",
              "      background-color: #E2EBFA;\n",
              "      box-shadow: 0px 1px 2px rgba(60, 64, 67, 0.3), 0px 1px 3px 1px rgba(60, 64, 67, 0.15);\n",
              "      fill: #174EA6;\n",
              "    }\n",
              "\n",
              "    [theme=dark] .colab-df-convert {\n",
              "      background-color: #3B4455;\n",
              "      fill: #D2E3FC;\n",
              "    }\n",
              "\n",
              "    [theme=dark] .colab-df-convert:hover {\n",
              "      background-color: #434B5C;\n",
              "      box-shadow: 0px 1px 3px 1px rgba(0, 0, 0, 0.15);\n",
              "      filter: drop-shadow(0px 1px 2px rgba(0, 0, 0, 0.3));\n",
              "      fill: #FFFFFF;\n",
              "    }\n",
              "  </style>\n",
              "\n",
              "      <script>\n",
              "        const buttonEl =\n",
              "          document.querySelector('#df-2b10b743-7b73-4ab6-b76a-e73c017c94ab button.colab-df-convert');\n",
              "        buttonEl.style.display =\n",
              "          google.colab.kernel.accessAllowed ? 'block' : 'none';\n",
              "\n",
              "        async function convertToInteractive(key) {\n",
              "          const element = document.querySelector('#df-2b10b743-7b73-4ab6-b76a-e73c017c94ab');\n",
              "          const dataTable =\n",
              "            await google.colab.kernel.invokeFunction('convertToInteractive',\n",
              "                                                     [key], {});\n",
              "          if (!dataTable) return;\n",
              "\n",
              "          const docLinkHtml = 'Like what you see? Visit the ' +\n",
              "            '<a target=\"_blank\" href=https://colab.research.google.com/notebooks/data_table.ipynb>data table notebook</a>'\n",
              "            + ' to learn more about interactive tables.';\n",
              "          element.innerHTML = '';\n",
              "          dataTable['output_type'] = 'display_data';\n",
              "          await google.colab.output.renderOutput(dataTable, element);\n",
              "          const docLink = document.createElement('div');\n",
              "          docLink.innerHTML = docLinkHtml;\n",
              "          element.appendChild(docLink);\n",
              "        }\n",
              "      </script>\n",
              "    </div>\n",
              "  </div>\n",
              "  "
            ]
          },
          "metadata": {},
          "execution_count": 41
        }
      ]
    },
    {
      "cell_type": "code",
      "source": [
        "min(train['fare_amount']),max(train['fare_amount'])"
      ],
      "metadata": {
        "colab": {
          "base_uri": "https://localhost:8080/"
        },
        "id": "XHKVG6HtK96D",
        "outputId": "489f4bd9-f83e-402d-a46c-09803035e601"
      },
      "execution_count": 42,
      "outputs": [
        {
          "output_type": "execute_result",
          "data": {
            "text/plain": [
              "(0.01, 394.0)"
            ]
          },
          "metadata": {},
          "execution_count": 42
        }
      ]
    },
    {
      "cell_type": "code",
      "source": [
        "# creating train and test set\n",
        "from sklearn.model_selection import train_test_split \n",
        "X_train, X_test, y_train, y_test = train_test_split(X, y, test_size=0.2, random_state=42)\n",
        "len(X), len(X_train), len(X_test)"
      ],
      "metadata": {
        "id": "KEImVdyRFfc-",
        "colab": {
          "base_uri": "https://localhost:8080/"
        },
        "outputId": "91c15d1a-3087-4c84-8d27-705a3f003436"
      },
      "execution_count": 43,
      "outputs": [
        {
          "output_type": "execute_result",
          "data": {
            "text/plain": [
              "(96467, 77173, 19294)"
            ]
          },
          "metadata": {},
          "execution_count": 43
        }
      ]
    },
    {
      "cell_type": "code",
      "source": [
        "X_train = tf.constant(X_train)\n",
        "y_train = tf.constant(y_train)\n",
        "X_test = tf.constant(X_test)\n",
        "y_test = tf.constant(y_test)"
      ],
      "metadata": {
        "id": "nkGB2k-qe-mT"
      },
      "execution_count": 44,
      "outputs": []
    },
    {
      "cell_type": "markdown",
      "source": [
        "**A.**   Create a baseline Neural network with the following specifications.\n",
        "2 hidden layers, each with 16 and 8 neurons respectively. Sigmoid activation, Batch Size=128 for\n",
        "Gradient Descent."
      ],
      "metadata": {
        "id": "J5HE-EkNWBYS"
      }
    },
    {
      "cell_type": "code",
      "source": [
        "tf.random.set_seed(42)\n",
        "# Building a model\n",
        "taxi_fare_model_1 = tf.keras.Sequential([\n",
        "                                       tf.keras.layers.Dense(16, activation='sigmoid',input_dim=X_train.shape[1]), #16 neurons    -->hidden layer 1\n",
        "                                       tf.keras.layers.BatchNormalization(),\n",
        "                                       tf.keras.layers.Dense(8, activation='sigmoid'),  #8  neurons    -->hidden layer 2\n",
        "                                       tf.keras.layers.BatchNormalization(),\n",
        "                                       tf.keras.layers.Dense(1)                         # output layer\n",
        "])\n",
        "\n",
        "# Compiling the model\n",
        "taxi_fare_model_1.compile(loss = tf.keras.losses.mae,\n",
        "                        optimizer = tf.keras.optimizers.SGD(learning_rate=0.0095),\n",
        "                        metrics = [\"mape\",\"mae\",\"mse\"]\n",
        "                        )\n",
        "\n",
        "# Fitting the model\n",
        "history = taxi_fare_model_1.fit(X_train, y_train, epochs = 50, batch_size=128)"
      ],
      "metadata": {
        "colab": {
          "base_uri": "https://localhost:8080/"
        },
        "id": "AefUi7kibjm_",
        "outputId": "f552d044-3213-4535-bc6d-8f937c61a60e"
      },
      "execution_count": 45,
      "outputs": [
        {
          "output_type": "stream",
          "name": "stdout",
          "text": [
            "Epoch 1/50\n",
            "603/603 [==============================] - 2s 2ms/step - loss: 0.2995 - mape: 207.4386 - mae: 0.2995 - mse: 0.3449\n",
            "Epoch 2/50\n",
            "603/603 [==============================] - 1s 2ms/step - loss: 0.2675 - mape: 192.5296 - mae: 0.2675 - mse: 0.2925\n",
            "Epoch 3/50\n",
            "603/603 [==============================] - 1s 2ms/step - loss: 0.2577 - mape: 188.2336 - mae: 0.2577 - mse: 0.2780\n",
            "Epoch 4/50\n",
            "603/603 [==============================] - 1s 2ms/step - loss: 0.2528 - mape: 185.2188 - mae: 0.2528 - mse: 0.2714\n",
            "Epoch 5/50\n",
            "603/603 [==============================] - 1s 2ms/step - loss: 0.2481 - mape: 183.4759 - mae: 0.2481 - mse: 0.2657\n",
            "Epoch 6/50\n",
            "603/603 [==============================] - 1s 2ms/step - loss: 0.2452 - mape: 181.4677 - mae: 0.2452 - mse: 0.2607\n",
            "Epoch 7/50\n",
            "603/603 [==============================] - 1s 2ms/step - loss: 0.2423 - mape: 180.8167 - mae: 0.2423 - mse: 0.2572\n",
            "Epoch 8/50\n",
            "603/603 [==============================] - 1s 2ms/step - loss: 0.2398 - mape: 177.6350 - mae: 0.2398 - mse: 0.2543\n",
            "Epoch 9/50\n",
            "603/603 [==============================] - 1s 2ms/step - loss: 0.2369 - mape: 179.2687 - mae: 0.2369 - mse: 0.2518\n",
            "Epoch 10/50\n",
            "603/603 [==============================] - 1s 2ms/step - loss: 0.2354 - mape: 178.6878 - mae: 0.2354 - mse: 0.2503\n",
            "Epoch 11/50\n",
            "603/603 [==============================] - 1s 2ms/step - loss: 0.2341 - mape: 175.7202 - mae: 0.2341 - mse: 0.2488\n",
            "Epoch 12/50\n",
            "603/603 [==============================] - 1s 2ms/step - loss: 0.2342 - mape: 177.5702 - mae: 0.2342 - mse: 0.2484\n",
            "Epoch 13/50\n",
            "603/603 [==============================] - 1s 2ms/step - loss: 0.2329 - mape: 174.2178 - mae: 0.2329 - mse: 0.2470\n",
            "Epoch 14/50\n",
            "603/603 [==============================] - 1s 2ms/step - loss: 0.2309 - mape: 171.5298 - mae: 0.2309 - mse: 0.2459\n",
            "Epoch 15/50\n",
            "603/603 [==============================] - 1s 2ms/step - loss: 0.2311 - mape: 174.8067 - mae: 0.2311 - mse: 0.2456\n",
            "Epoch 16/50\n",
            "603/603 [==============================] - 1s 2ms/step - loss: 0.2298 - mape: 172.7382 - mae: 0.2298 - mse: 0.2434\n",
            "Epoch 17/50\n",
            "603/603 [==============================] - 1s 2ms/step - loss: 0.2286 - mape: 169.0855 - mae: 0.2286 - mse: 0.2420\n",
            "Epoch 18/50\n",
            "603/603 [==============================] - 1s 2ms/step - loss: 0.2274 - mape: 169.3149 - mae: 0.2274 - mse: 0.2408\n",
            "Epoch 19/50\n",
            "603/603 [==============================] - 1s 2ms/step - loss: 0.2282 - mape: 171.4121 - mae: 0.2282 - mse: 0.2411\n",
            "Epoch 20/50\n",
            "603/603 [==============================] - 1s 2ms/step - loss: 0.2279 - mape: 166.8355 - mae: 0.2279 - mse: 0.2403\n",
            "Epoch 21/50\n",
            "603/603 [==============================] - 1s 2ms/step - loss: 0.2256 - mape: 168.7593 - mae: 0.2256 - mse: 0.2376\n",
            "Epoch 22/50\n",
            "603/603 [==============================] - 1s 2ms/step - loss: 0.2256 - mape: 168.8319 - mae: 0.2256 - mse: 0.2378\n",
            "Epoch 23/50\n",
            "603/603 [==============================] - 1s 2ms/step - loss: 0.2254 - mape: 168.1370 - mae: 0.2254 - mse: 0.2375\n",
            "Epoch 24/50\n",
            "603/603 [==============================] - 1s 2ms/step - loss: 0.2242 - mape: 168.4514 - mae: 0.2242 - mse: 0.2364\n",
            "Epoch 25/50\n",
            "603/603 [==============================] - 1s 1ms/step - loss: 0.2239 - mape: 166.6552 - mae: 0.2239 - mse: 0.2359\n",
            "Epoch 26/50\n",
            "603/603 [==============================] - 1s 2ms/step - loss: 0.2237 - mape: 166.8402 - mae: 0.2237 - mse: 0.2350\n",
            "Epoch 27/50\n",
            "603/603 [==============================] - 1s 2ms/step - loss: 0.2245 - mape: 169.1905 - mae: 0.2245 - mse: 0.2360\n",
            "Epoch 28/50\n",
            "603/603 [==============================] - 1s 2ms/step - loss: 0.2233 - mape: 165.0974 - mae: 0.2233 - mse: 0.2353\n",
            "Epoch 29/50\n",
            "603/603 [==============================] - 1s 2ms/step - loss: 0.2229 - mape: 167.3161 - mae: 0.2229 - mse: 0.2350\n",
            "Epoch 30/50\n",
            "603/603 [==============================] - 1s 2ms/step - loss: 0.2223 - mape: 166.1585 - mae: 0.2223 - mse: 0.2347\n",
            "Epoch 31/50\n",
            "603/603 [==============================] - 1s 2ms/step - loss: 0.2221 - mape: 166.0196 - mae: 0.2221 - mse: 0.2338\n",
            "Epoch 32/50\n",
            "603/603 [==============================] - 1s 2ms/step - loss: 0.2219 - mape: 167.2754 - mae: 0.2219 - mse: 0.2338\n",
            "Epoch 33/50\n",
            "603/603 [==============================] - 1s 2ms/step - loss: 0.2196 - mape: 163.8224 - mae: 0.2196 - mse: 0.2319\n",
            "Epoch 34/50\n",
            "603/603 [==============================] - 1s 1ms/step - loss: 0.2204 - mape: 164.9262 - mae: 0.2204 - mse: 0.2315\n",
            "Epoch 35/50\n",
            "603/603 [==============================] - 1s 2ms/step - loss: 0.2212 - mape: 163.6218 - mae: 0.2212 - mse: 0.2326\n",
            "Epoch 36/50\n",
            "603/603 [==============================] - 1s 2ms/step - loss: 0.2192 - mape: 165.9413 - mae: 0.2192 - mse: 0.2317\n",
            "Epoch 37/50\n",
            "603/603 [==============================] - 1s 2ms/step - loss: 0.2201 - mape: 164.4794 - mae: 0.2201 - mse: 0.2307\n",
            "Epoch 38/50\n",
            "603/603 [==============================] - 1s 2ms/step - loss: 0.2200 - mape: 166.2498 - mae: 0.2200 - mse: 0.2308\n",
            "Epoch 39/50\n",
            "603/603 [==============================] - 1s 2ms/step - loss: 0.2191 - mape: 164.3403 - mae: 0.2191 - mse: 0.2293\n",
            "Epoch 40/50\n",
            "603/603 [==============================] - 1s 2ms/step - loss: 0.2203 - mape: 165.0590 - mae: 0.2203 - mse: 0.2298\n",
            "Epoch 41/50\n",
            "603/603 [==============================] - 1s 2ms/step - loss: 0.2194 - mape: 163.2361 - mae: 0.2194 - mse: 0.2296\n",
            "Epoch 42/50\n",
            "603/603 [==============================] - 1s 2ms/step - loss: 0.2182 - mape: 162.7816 - mae: 0.2182 - mse: 0.2288\n",
            "Epoch 43/50\n",
            "603/603 [==============================] - 1s 2ms/step - loss: 0.2179 - mape: 162.2754 - mae: 0.2179 - mse: 0.2276\n",
            "Epoch 44/50\n",
            "603/603 [==============================] - 1s 2ms/step - loss: 0.2185 - mape: 161.4667 - mae: 0.2185 - mse: 0.2286\n",
            "Epoch 45/50\n",
            "603/603 [==============================] - 1s 2ms/step - loss: 0.2185 - mape: 161.7009 - mae: 0.2185 - mse: 0.2283\n",
            "Epoch 46/50\n",
            "603/603 [==============================] - 1s 2ms/step - loss: 0.2171 - mape: 161.2605 - mae: 0.2171 - mse: 0.2274\n",
            "Epoch 47/50\n",
            "603/603 [==============================] - 1s 2ms/step - loss: 0.2172 - mape: 161.9391 - mae: 0.2172 - mse: 0.2269\n",
            "Epoch 48/50\n",
            "603/603 [==============================] - 1s 2ms/step - loss: 0.2161 - mape: 158.1143 - mae: 0.2161 - mse: 0.2264\n",
            "Epoch 49/50\n",
            "603/603 [==============================] - 1s 2ms/step - loss: 0.2165 - mape: 160.7816 - mae: 0.2165 - mse: 0.2270\n",
            "Epoch 50/50\n",
            "603/603 [==============================] - 1s 2ms/step - loss: 0.2159 - mape: 160.0871 - mae: 0.2159 - mse: 0.2258\n"
          ]
        }
      ]
    },
    {
      "cell_type": "code",
      "source": [
        "taxi_fare_model_1.evaluate(X_test,y_test)"
      ],
      "metadata": {
        "colab": {
          "base_uri": "https://localhost:8080/"
        },
        "outputId": "2da1d8ce-3231-44b1-8c22-23366098ab7b",
        "id": "x_5K0i7Q76F9"
      },
      "execution_count": 46,
      "outputs": [
        {
          "output_type": "stream",
          "name": "stdout",
          "text": [
            "603/603 [==============================] - 1s 1ms/step - loss: 0.1962 - mape: 138.0390 - mae: 0.1962 - mse: 0.2133\n"
          ]
        },
        {
          "output_type": "execute_result",
          "data": {
            "text/plain": [
              "[0.19618810713291168,\n",
              " 138.03904724121094,\n",
              " 0.19618810713291168,\n",
              " 0.21330878138542175]"
            ]
          },
          "metadata": {},
          "execution_count": 46
        }
      ]
    },
    {
      "cell_type": "code",
      "source": [
        "pred=taxi_fare_model_1.predict(X_test)"
      ],
      "metadata": {
        "id": "sU1GnxQL2UZ0",
        "outputId": "dec5fb53-8c34-4d71-8d49-de93143a5f91",
        "colab": {
          "base_uri": "https://localhost:8080/"
        }
      },
      "execution_count": 47,
      "outputs": [
        {
          "output_type": "stream",
          "name": "stdout",
          "text": [
            "603/603 [==============================] - 1s 1ms/step\n"
          ]
        }
      ]
    },
    {
      "cell_type": "code",
      "source": [
        "from sklearn.metrics import mean_squared_error,mean_absolute_percentage_error,mean_absolute_error\n",
        "print(\"MAPE : \",mean_absolute_percentage_error(y_test,pred))\n",
        "print(\"MAE : \",mean_absolute_error(y_test,pred))\n",
        "print(\"MSE : \",mean_squared_error(y_test,pred))\n"
      ],
      "metadata": {
        "colab": {
          "base_uri": "https://localhost:8080/"
        },
        "id": "V8pKGGNe2Lzt",
        "outputId": "9c5b3b92-e960-4c93-a5c5-44aca86fa407"
      },
      "execution_count": 48,
      "outputs": [
        {
          "output_type": "stream",
          "name": "stdout",
          "text": [
            "MAPE :  1.3803911014637211\n",
            "MAE :  0.19618817018041976\n",
            "MSE :  0.21330872026568173\n"
          ]
        }
      ]
    },
    {
      "cell_type": "code",
      "source": [
        "# Plot history (also known as a loss curve or a training curve)\n",
        "pd.DataFrame(history.history['mae']).plot()\n",
        "plt.ylabel(\"mae\")\n",
        "plt.xlabel(\"epochs\")"
      ],
      "metadata": {
        "colab": {
          "base_uri": "https://localhost:8080/",
          "height": 296
        },
        "outputId": "8da2176d-b3da-4c0f-e590-b65fccfa9037",
        "id": "4KIDecxE78ju"
      },
      "execution_count": 49,
      "outputs": [
        {
          "output_type": "execute_result",
          "data": {
            "text/plain": [
              "Text(0.5, 0, 'epochs')"
            ]
          },
          "metadata": {},
          "execution_count": 49
        },
        {
          "output_type": "display_data",
          "data": {
            "text/plain": [
              "<Figure size 432x288 with 1 Axes>"
            ],
            "image/png": "[encoded data removed]"
          },
          "metadata": {
            "needs_background": "light"
          }
        }
      ]
    },
    {
      "cell_type": "code",
      "source": [
        "m1=[mean_absolute_percentage_error(y_test,pred),mean_absolute_error(y_test,pred),mean_squared_error(y_test,pred)]\n",
        "m1"
      ],
      "metadata": {
        "colab": {
          "base_uri": "https://localhost:8080/"
        },
        "id": "ZHJRPS_4uu96",
        "outputId": "bfe5774f-fcdf-437f-bb01-c2cec31143b5"
      },
      "execution_count": 50,
      "outputs": [
        {
          "output_type": "execute_result",
          "data": {
            "text/plain": [
              "[1.3803911014637211, 0.19618817018041976, 0.21330872026568173]"
            ]
          },
          "metadata": {},
          "execution_count": 50
        }
      ]
    },
    {
      "cell_type": "markdown",
      "source": [
        " **B. Experiment with number of layers and neurons per layer to increase the\n",
        "performance metrics.**"
      ],
      "metadata": {
        "id": "Y7ZqGpme7qLM"
      }
    },
    {
      "cell_type": "code",
      "source": [
        "## decreasing number of hidden layers:\n",
        "taxi_fare_model_2_a = tf.keras.Sequential([\n",
        "                                       tf.keras.layers.Dense(16, activation='sigmoid', input_dim=X_train.shape[1]),\n",
        "                                       tf.keras.layers.BatchNormalization(),\n",
        "                                       tf.keras.layers.Dense(1)                             ## final output layer with only 1 neuron\n",
        "                                    ])\n",
        "\n",
        "\n",
        "taxi_fare_model_2_a.compile(loss = tf.keras.losses.mae,\n",
        "                        optimizer = tf.keras.optimizers.SGD(learning_rate=0.0095),\n",
        "                        metrics = [\"mape\",\"mae\",\"mse\"]\n",
        "                        )\n",
        "\n",
        "\n",
        "history = taxi_fare_model_2_a.fit(X_train, y_train, epochs = 50,batch_size=128)\n"
      ],
      "metadata": {
        "colab": {
          "base_uri": "https://localhost:8080/"
        },
        "id": "KIBpAgtQgnI3",
        "outputId": "e98ed16e-1edb-4dbb-947f-ca1f04973791"
      },
      "execution_count": 51,
      "outputs": [
        {
          "output_type": "stream",
          "name": "stdout",
          "text": [
            "Epoch 1/50\n",
            "603/603 [==============================] - 2s 2ms/step - loss: 0.3222 - mape: 219.9948 - mae: 0.3222 - mse: 0.4229\n",
            "Epoch 2/50\n",
            "603/603 [==============================] - 1s 2ms/step - loss: 0.2588 - mape: 185.6548 - mae: 0.2588 - mse: 0.2855\n",
            "Epoch 3/50\n",
            "603/603 [==============================] - 1s 1ms/step - loss: 0.2504 - mape: 182.4979 - mae: 0.2504 - mse: 0.2726\n",
            "Epoch 4/50\n",
            "603/603 [==============================] - 1s 1ms/step - loss: 0.2477 - mape: 180.4915 - mae: 0.2477 - mse: 0.2679\n",
            "Epoch 5/50\n",
            "603/603 [==============================] - 1s 1ms/step - loss: 0.2456 - mape: 180.2580 - mae: 0.2456 - mse: 0.2659\n",
            "Epoch 6/50\n",
            "603/603 [==============================] - 1s 1ms/step - loss: 0.2441 - mape: 178.3163 - mae: 0.2441 - mse: 0.2624\n",
            "Epoch 7/50\n",
            "603/603 [==============================] - 1s 2ms/step - loss: 0.2427 - mape: 177.8668 - mae: 0.2427 - mse: 0.2603\n",
            "Epoch 8/50\n",
            "603/603 [==============================] - 1s 1ms/step - loss: 0.2409 - mape: 175.9654 - mae: 0.2409 - mse: 0.2580\n",
            "Epoch 9/50\n",
            "603/603 [==============================] - 1s 1ms/step - loss: 0.2390 - mape: 178.2834 - mae: 0.2390 - mse: 0.2558\n",
            "Epoch 10/50\n",
            "603/603 [==============================] - 1s 1ms/step - loss: 0.2383 - mape: 177.6843 - mae: 0.2383 - mse: 0.2551\n",
            "Epoch 11/50\n",
            "603/603 [==============================] - 1s 1ms/step - loss: 0.2379 - mape: 175.0441 - mae: 0.2379 - mse: 0.2544\n",
            "Epoch 12/50\n",
            "603/603 [==============================] - 1s 1ms/step - loss: 0.2382 - mape: 177.9222 - mae: 0.2382 - mse: 0.2530\n",
            "Epoch 13/50\n",
            "603/603 [==============================] - 1s 1ms/step - loss: 0.2373 - mape: 175.3868 - mae: 0.2373 - mse: 0.2527\n",
            "Epoch 14/50\n",
            "603/603 [==============================] - 1s 2ms/step - loss: 0.2354 - mape: 173.5632 - mae: 0.2354 - mse: 0.2512\n",
            "Epoch 15/50\n",
            "603/603 [==============================] - 1s 2ms/step - loss: 0.2359 - mape: 175.2678 - mae: 0.2359 - mse: 0.2509\n",
            "Epoch 16/50\n",
            "603/603 [==============================] - 1s 2ms/step - loss: 0.2347 - mape: 175.3475 - mae: 0.2347 - mse: 0.2491\n",
            "Epoch 17/50\n",
            "603/603 [==============================] - 1s 1ms/step - loss: 0.2337 - mape: 171.9530 - mae: 0.2337 - mse: 0.2472\n",
            "Epoch 18/50\n",
            "603/603 [==============================] - 1s 1ms/step - loss: 0.2326 - mape: 172.0050 - mae: 0.2326 - mse: 0.2460\n",
            "Epoch 19/50\n",
            "603/603 [==============================] - 1s 1ms/step - loss: 0.2339 - mape: 173.5052 - mae: 0.2339 - mse: 0.2476\n",
            "Epoch 20/50\n",
            "603/603 [==============================] - 1s 1ms/step - loss: 0.2336 - mape: 169.6215 - mae: 0.2336 - mse: 0.2460\n",
            "Epoch 21/50\n",
            "603/603 [==============================] - 1s 1ms/step - loss: 0.2313 - mape: 171.9950 - mae: 0.2313 - mse: 0.2426\n",
            "Epoch 22/50\n",
            "603/603 [==============================] - 1s 2ms/step - loss: 0.2317 - mape: 172.0716 - mae: 0.2317 - mse: 0.2430\n",
            "Epoch 23/50\n",
            "603/603 [==============================] - 1s 1ms/step - loss: 0.2314 - mape: 170.8772 - mae: 0.2314 - mse: 0.2426\n",
            "Epoch 24/50\n",
            "603/603 [==============================] - 1s 2ms/step - loss: 0.2306 - mape: 171.8144 - mae: 0.2306 - mse: 0.2422\n",
            "Epoch 25/50\n",
            "603/603 [==============================] - 1s 1ms/step - loss: 0.2298 - mape: 171.6324 - mae: 0.2298 - mse: 0.2400\n",
            "Epoch 26/50\n",
            "603/603 [==============================] - 1s 1ms/step - loss: 0.2296 - mape: 171.1039 - mae: 0.2296 - mse: 0.2396\n",
            "Epoch 27/50\n",
            "603/603 [==============================] - 1s 2ms/step - loss: 0.2302 - mape: 172.3234 - mae: 0.2302 - mse: 0.2390\n",
            "Epoch 28/50\n",
            "603/603 [==============================] - 1s 2ms/step - loss: 0.2293 - mape: 169.1221 - mae: 0.2293 - mse: 0.2391\n",
            "Epoch 29/50\n",
            "603/603 [==============================] - 1s 2ms/step - loss: 0.2286 - mape: 172.4314 - mae: 0.2286 - mse: 0.2379\n",
            "Epoch 30/50\n",
            "603/603 [==============================] - 1s 1ms/step - loss: 0.2279 - mape: 170.6479 - mae: 0.2279 - mse: 0.2361\n",
            "Epoch 31/50\n",
            "603/603 [==============================] - 1s 1ms/step - loss: 0.2276 - mape: 170.0636 - mae: 0.2276 - mse: 0.2343\n",
            "Epoch 32/50\n",
            "603/603 [==============================] - 1s 1ms/step - loss: 0.2276 - mape: 170.9327 - mae: 0.2276 - mse: 0.2343\n",
            "Epoch 33/50\n",
            "603/603 [==============================] - 1s 1ms/step - loss: 0.2251 - mape: 168.5723 - mae: 0.2251 - mse: 0.2321\n",
            "Epoch 34/50\n",
            "603/603 [==============================] - 1s 1ms/step - loss: 0.2257 - mape: 169.6789 - mae: 0.2257 - mse: 0.2308\n",
            "Epoch 35/50\n",
            "603/603 [==============================] - 1s 1ms/step - loss: 0.2271 - mape: 169.0165 - mae: 0.2271 - mse: 0.2326\n",
            "Epoch 36/50\n",
            "603/603 [==============================] - 1s 1ms/step - loss: 0.2243 - mape: 171.5937 - mae: 0.2243 - mse: 0.2302\n",
            "Epoch 37/50\n",
            "603/603 [==============================] - 1s 1ms/step - loss: 0.2250 - mape: 168.2971 - mae: 0.2250 - mse: 0.2288\n",
            "Epoch 38/50\n",
            "603/603 [==============================] - 1s 1ms/step - loss: 0.2251 - mape: 170.0261 - mae: 0.2251 - mse: 0.2285\n",
            "Epoch 39/50\n",
            "603/603 [==============================] - 1s 1ms/step - loss: 0.2245 - mape: 170.4965 - mae: 0.2245 - mse: 0.2278\n",
            "Epoch 40/50\n",
            "603/603 [==============================] - 1s 2ms/step - loss: 0.2258 - mape: 171.5729 - mae: 0.2258 - mse: 0.2276\n",
            "Epoch 41/50\n",
            "603/603 [==============================] - 1s 2ms/step - loss: 0.2248 - mape: 169.4420 - mae: 0.2248 - mse: 0.2272\n",
            "Epoch 42/50\n",
            "603/603 [==============================] - 1s 2ms/step - loss: 0.2240 - mape: 169.4502 - mae: 0.2240 - mse: 0.2267\n",
            "Epoch 43/50\n",
            "603/603 [==============================] - 1s 1ms/step - loss: 0.2233 - mape: 168.5997 - mae: 0.2233 - mse: 0.2247\n",
            "Epoch 44/50\n",
            "603/603 [==============================] - 1s 1ms/step - loss: 0.2240 - mape: 168.5400 - mae: 0.2240 - mse: 0.2260\n",
            "Epoch 45/50\n",
            "603/603 [==============================] - 1s 1ms/step - loss: 0.2236 - mape: 169.2469 - mae: 0.2236 - mse: 0.2247\n",
            "Epoch 46/50\n",
            "603/603 [==============================] - 1s 2ms/step - loss: 0.2228 - mape: 169.9121 - mae: 0.2228 - mse: 0.2239\n",
            "Epoch 47/50\n",
            "603/603 [==============================] - 2s 3ms/step - loss: 0.2230 - mape: 169.1153 - mae: 0.2230 - mse: 0.2234\n",
            "Epoch 48/50\n",
            "603/603 [==============================] - 2s 3ms/step - loss: 0.2219 - mape: 165.1618 - mae: 0.2219 - mse: 0.2228\n",
            "Epoch 49/50\n",
            "603/603 [==============================] - 1s 2ms/step - loss: 0.2226 - mape: 169.0047 - mae: 0.2226 - mse: 0.2240\n",
            "Epoch 50/50\n",
            "603/603 [==============================] - 1s 1ms/step - loss: 0.2216 - mape: 168.3241 - mae: 0.2216 - mse: 0.2220\n"
          ]
        }
      ]
    },
    {
      "cell_type": "code",
      "source": [
        "taxi_fare_model_2_a.evaluate(X_test,y_test)"
      ],
      "metadata": {
        "colab": {
          "base_uri": "https://localhost:8080/"
        },
        "id": "hSVpAn62fteW",
        "outputId": "b577240f-6c1b-4eba-f266-d20a318cacfd"
      },
      "execution_count": 52,
      "outputs": [
        {
          "output_type": "stream",
          "name": "stdout",
          "text": [
            "603/603 [==============================] - 1s 1ms/step - loss: 0.2023 - mape: 151.3950 - mae: 0.2023 - mse: 0.2146\n"
          ]
        },
        {
          "output_type": "execute_result",
          "data": {
            "text/plain": [
              "[0.20231354236602783,\n",
              " 151.39498901367188,\n",
              " 0.20231354236602783,\n",
              " 0.2145911008119583]"
            ]
          },
          "metadata": {},
          "execution_count": 52
        }
      ]
    },
    {
      "cell_type": "code",
      "source": [
        "pred = taxi_fare_model_2_a.predict(X_test)\n",
        "print(\"MAPE : \",mean_absolute_percentage_error(y_test,pred))\n",
        "print(\"MAE : \",mean_absolute_error(y_test,pred))\n",
        "print(\"MSE : \",mean_squared_error(y_test,pred))\n"
      ],
      "metadata": {
        "colab": {
          "base_uri": "https://localhost:8080/"
        },
        "id": "rTed_Eat4Yjx",
        "outputId": "e2419cc2-7e9b-42d7-ebeb-ceeb8855c685"
      },
      "execution_count": 53,
      "outputs": [
        {
          "output_type": "stream",
          "name": "stdout",
          "text": [
            "603/603 [==============================] - 1s 1ms/step\n",
            "MAPE :  1.5139489008092581\n",
            "MAE :  0.20231350235251042\n",
            "MSE :  0.2145910914079569\n"
          ]
        }
      ]
    },
    {
      "cell_type": "code",
      "source": [
        "m2a=[mean_absolute_percentage_error(y_test,pred),mean_absolute_error(y_test,pred),mean_squared_error(y_test,pred)]\n",
        "m2a"
      ],
      "metadata": {
        "colab": {
          "base_uri": "https://localhost:8080/"
        },
        "id": "oX5fwIB3vQr0",
        "outputId": "3f67574e-eda5-4048-c037-0a01b49bc7f3"
      },
      "execution_count": 54,
      "outputs": [
        {
          "output_type": "execute_result",
          "data": {
            "text/plain": [
              "[1.5139489008092581, 0.20231350235251042, 0.2145910914079569]"
            ]
          },
          "metadata": {},
          "execution_count": 54
        }
      ]
    },
    {
      "cell_type": "code",
      "source": [
        "# Plot history (also known as a loss curve or a training curve)\n",
        "pd.DataFrame(history.history['mae']).plot()\n",
        "plt.ylabel(\"mae\")\n",
        "plt.xlabel(\"epochs\")"
      ],
      "metadata": {
        "colab": {
          "base_uri": "https://localhost:8080/",
          "height": 296
        },
        "id": "tT7lGwzShMeH",
        "outputId": "1241e3f2-4bbf-4028-bfcf-a41124990fa4"
      },
      "execution_count": 55,
      "outputs": [
        {
          "output_type": "execute_result",
          "data": {
            "text/plain": [
              "Text(0.5, 0, 'epochs')"
            ]
          },
          "metadata": {},
          "execution_count": 55
        },
        {
          "output_type": "display_data",
          "data": {
            "text/plain": [
              "<Figure size 432x288 with 1 Axes>"
            ],
            "image/png": "[encoded data removed]"
          },
          "metadata": {
            "needs_background": "light"
          }
        }
      ]
    },
    {
      "cell_type": "code",
      "source": [
        "## increasing number of hidden layers:\n",
        "taxi_fare_model_2_b = tf.keras.Sequential([\n",
        "                                       tf.keras.layers.Dense(32, activation='sigmoid', input_dim=X_train.shape[1]),\n",
        "                                       tf.keras.layers.BatchNormalization(),\n",
        "                                       tf.keras.layers.Dense(24, activation='sigmoid'),\n",
        "                                       tf.keras.layers.BatchNormalization(),\n",
        "                                       tf.keras.layers.Dense(16, activation='sigmoid'),\n",
        "                                       tf.keras.layers.BatchNormalization(),\n",
        "                                       tf.keras.layers.Dense(8, activation='sigmoid'),\n",
        "                                       tf.keras.layers.BatchNormalization(),\n",
        "                                       tf.keras.layers.Dense(1)                             ## final output layer with only 1 neuron\n",
        "                                    ])\n",
        "\n",
        "\n",
        "taxi_fare_model_2_b.compile(loss = tf.keras.losses.mae,\n",
        "                        optimizer = tf.keras.optimizers.SGD(learning_rate=0.0095),\n",
        "                        metrics = [\"mape\",\"mae\",\"mse\"]\n",
        "                        )\n",
        "\n",
        "\n",
        "history = taxi_fare_model_2_b.fit(X_train, y_train, epochs = 50,batch_size=128)\n"
      ],
      "metadata": {
        "colab": {
          "base_uri": "https://localhost:8080/"
        },
        "outputId": "5d299d7b-958c-4943-e417-f8e9d5bb5f2a",
        "id": "LsWOXbqZhd2v"
      },
      "execution_count": 56,
      "outputs": [
        {
          "output_type": "stream",
          "name": "stdout",
          "text": [
            "Epoch 1/50\n",
            "603/603 [==============================] - 3s 2ms/step - loss: 0.3127 - mape: 200.1664 - mae: 0.3127 - mse: 0.3776\n",
            "Epoch 2/50\n",
            "603/603 [==============================] - 1s 2ms/step - loss: 0.2783 - mape: 188.7678 - mae: 0.2783 - mse: 0.3163\n",
            "Epoch 3/50\n",
            "603/603 [==============================] - 1s 2ms/step - loss: 0.2637 - mape: 185.2493 - mae: 0.2637 - mse: 0.2872\n",
            "Epoch 4/50\n",
            "603/603 [==============================] - 1s 2ms/step - loss: 0.2555 - mape: 180.3470 - mae: 0.2555 - mse: 0.2709\n",
            "Epoch 5/50\n",
            "603/603 [==============================] - 2s 3ms/step - loss: 0.2501 - mape: 178.1982 - mae: 0.2501 - mse: 0.2644\n",
            "Epoch 6/50\n",
            "603/603 [==============================] - 1s 2ms/step - loss: 0.2458 - mape: 175.0450 - mae: 0.2458 - mse: 0.2571\n",
            "Epoch 7/50\n",
            "603/603 [==============================] - 1s 2ms/step - loss: 0.2419 - mape: 172.5824 - mae: 0.2419 - mse: 0.2528\n",
            "Epoch 8/50\n",
            "603/603 [==============================] - 1s 2ms/step - loss: 0.2388 - mape: 169.2947 - mae: 0.2388 - mse: 0.2483\n",
            "Epoch 9/50\n",
            "603/603 [==============================] - 1s 2ms/step - loss: 0.2360 - mape: 171.9606 - mae: 0.2360 - mse: 0.2450\n",
            "Epoch 10/50\n",
            "603/603 [==============================] - 1s 2ms/step - loss: 0.2342 - mape: 170.2295 - mae: 0.2342 - mse: 0.2425\n",
            "Epoch 11/50\n",
            "603/603 [==============================] - 1s 2ms/step - loss: 0.2328 - mape: 168.3712 - mae: 0.2328 - mse: 0.2413\n",
            "Epoch 12/50\n",
            "603/603 [==============================] - 1s 2ms/step - loss: 0.2322 - mape: 170.4281 - mae: 0.2322 - mse: 0.2396\n",
            "Epoch 13/50\n",
            "603/603 [==============================] - 1s 2ms/step - loss: 0.2309 - mape: 168.1157 - mae: 0.2309 - mse: 0.2382\n",
            "Epoch 14/50\n",
            "603/603 [==============================] - 1s 2ms/step - loss: 0.2284 - mape: 164.0569 - mae: 0.2284 - mse: 0.2355\n",
            "Epoch 15/50\n",
            "603/603 [==============================] - 1s 2ms/step - loss: 0.2288 - mape: 166.8426 - mae: 0.2288 - mse: 0.2348\n",
            "Epoch 16/50\n",
            "603/603 [==============================] - 1s 2ms/step - loss: 0.2274 - mape: 167.1884 - mae: 0.2274 - mse: 0.2339\n",
            "Epoch 17/50\n",
            "603/603 [==============================] - 1s 2ms/step - loss: 0.2265 - mape: 164.4237 - mae: 0.2265 - mse: 0.2321\n",
            "Epoch 18/50\n",
            "603/603 [==============================] - 1s 2ms/step - loss: 0.2249 - mape: 164.0605 - mae: 0.2249 - mse: 0.2301\n",
            "Epoch 19/50\n",
            "603/603 [==============================] - 1s 2ms/step - loss: 0.2258 - mape: 166.1815 - mae: 0.2258 - mse: 0.2311\n",
            "Epoch 20/50\n",
            "603/603 [==============================] - 1s 2ms/step - loss: 0.2254 - mape: 163.4419 - mae: 0.2254 - mse: 0.2305\n",
            "Epoch 21/50\n",
            "603/603 [==============================] - 1s 2ms/step - loss: 0.2228 - mape: 164.5962 - mae: 0.2228 - mse: 0.2275\n",
            "Epoch 22/50\n",
            "603/603 [==============================] - 1s 2ms/step - loss: 0.2225 - mape: 164.1935 - mae: 0.2225 - mse: 0.2274\n",
            "Epoch 23/50\n",
            "603/603 [==============================] - 1s 2ms/step - loss: 0.2222 - mape: 163.8398 - mae: 0.2222 - mse: 0.2272\n",
            "Epoch 24/50\n",
            "603/603 [==============================] - 2s 3ms/step - loss: 0.2210 - mape: 163.9452 - mae: 0.2210 - mse: 0.2253\n",
            "Epoch 25/50\n",
            "603/603 [==============================] - 1s 2ms/step - loss: 0.2206 - mape: 162.6257 - mae: 0.2206 - mse: 0.2252\n",
            "Epoch 26/50\n",
            "603/603 [==============================] - 1s 2ms/step - loss: 0.2200 - mape: 162.3828 - mae: 0.2200 - mse: 0.2235\n",
            "Epoch 27/50\n",
            "603/603 [==============================] - 1s 2ms/step - loss: 0.2205 - mape: 164.6122 - mae: 0.2205 - mse: 0.2238\n",
            "Epoch 28/50\n",
            "603/603 [==============================] - 1s 2ms/step - loss: 0.2191 - mape: 162.1815 - mae: 0.2191 - mse: 0.2235\n",
            "Epoch 29/50\n",
            "603/603 [==============================] - 1s 2ms/step - loss: 0.2181 - mape: 164.1080 - mae: 0.2181 - mse: 0.2230\n",
            "Epoch 30/50\n",
            "603/603 [==============================] - 1s 2ms/step - loss: 0.2176 - mape: 162.0491 - mae: 0.2176 - mse: 0.2216\n",
            "Epoch 31/50\n",
            "603/603 [==============================] - 1s 2ms/step - loss: 0.2171 - mape: 161.6290 - mae: 0.2171 - mse: 0.2208\n",
            "Epoch 32/50\n",
            "603/603 [==============================] - 1s 2ms/step - loss: 0.2172 - mape: 163.1055 - mae: 0.2172 - mse: 0.2204\n",
            "Epoch 33/50\n",
            "603/603 [==============================] - 2s 3ms/step - loss: 0.2147 - mape: 159.1389 - mae: 0.2147 - mse: 0.2197\n",
            "Epoch 34/50\n",
            "603/603 [==============================] - 1s 2ms/step - loss: 0.2152 - mape: 160.9753 - mae: 0.2152 - mse: 0.2193\n",
            "Epoch 35/50\n",
            "603/603 [==============================] - 1s 2ms/step - loss: 0.2161 - mape: 159.9645 - mae: 0.2161 - mse: 0.2191\n",
            "Epoch 36/50\n",
            "603/603 [==============================] - 1s 2ms/step - loss: 0.2142 - mape: 162.3078 - mae: 0.2142 - mse: 0.2181\n",
            "Epoch 37/50\n",
            "603/603 [==============================] - 1s 2ms/step - loss: 0.2146 - mape: 159.6504 - mae: 0.2146 - mse: 0.2172\n",
            "Epoch 38/50\n",
            "603/603 [==============================] - 1s 2ms/step - loss: 0.2140 - mape: 161.5700 - mae: 0.2140 - mse: 0.2177\n",
            "Epoch 39/50\n",
            "603/603 [==============================] - 1s 2ms/step - loss: 0.2134 - mape: 162.3238 - mae: 0.2134 - mse: 0.2167\n",
            "Epoch 40/50\n",
            "603/603 [==============================] - 1s 2ms/step - loss: 0.2143 - mape: 161.3799 - mae: 0.2143 - mse: 0.2163\n",
            "Epoch 41/50\n",
            "603/603 [==============================] - 1s 2ms/step - loss: 0.2127 - mape: 160.2174 - mae: 0.2127 - mse: 0.2159\n",
            "Epoch 42/50\n",
            "603/603 [==============================] - 2s 3ms/step - loss: 0.2123 - mape: 161.0245 - mae: 0.2123 - mse: 0.2154\n",
            "Epoch 43/50\n",
            "603/603 [==============================] - 1s 2ms/step - loss: 0.2113 - mape: 158.7622 - mae: 0.2113 - mse: 0.2133\n",
            "Epoch 44/50\n",
            "603/603 [==============================] - 1s 2ms/step - loss: 0.2118 - mape: 159.8308 - mae: 0.2118 - mse: 0.2142\n",
            "Epoch 45/50\n",
            "603/603 [==============================] - 1s 2ms/step - loss: 0.2114 - mape: 160.3819 - mae: 0.2114 - mse: 0.2141\n",
            "Epoch 46/50\n",
            "603/603 [==============================] - 1s 2ms/step - loss: 0.2100 - mape: 158.1693 - mae: 0.2100 - mse: 0.2127\n",
            "Epoch 47/50\n",
            "603/603 [==============================] - 1s 2ms/step - loss: 0.2098 - mape: 158.4000 - mae: 0.2098 - mse: 0.2125\n",
            "Epoch 48/50\n",
            "603/603 [==============================] - 1s 2ms/step - loss: 0.2084 - mape: 155.2409 - mae: 0.2084 - mse: 0.2122\n",
            "Epoch 49/50\n",
            "603/603 [==============================] - 1s 2ms/step - loss: 0.2093 - mape: 158.3258 - mae: 0.2093 - mse: 0.2130\n",
            "Epoch 50/50\n",
            "603/603 [==============================] - 1s 2ms/step - loss: 0.2083 - mape: 158.5805 - mae: 0.2083 - mse: 0.2119\n"
          ]
        }
      ]
    },
    {
      "cell_type": "code",
      "source": [
        "taxi_fare_model_2_b.evaluate(X_test,y_test)"
      ],
      "metadata": {
        "colab": {
          "base_uri": "https://localhost:8080/"
        },
        "id": "KRdTW0WxlzhC",
        "outputId": "86490843-7645-4a6e-a029-d54a827e9f7d"
      },
      "execution_count": 57,
      "outputs": [
        {
          "output_type": "stream",
          "name": "stdout",
          "text": [
            "603/603 [==============================] - 1s 2ms/step - loss: 0.1868 - mape: 136.8685 - mae: 0.1868 - mse: 0.2041\n"
          ]
        },
        {
          "output_type": "execute_result",
          "data": {
            "text/plain": [
              "[0.18680010735988617,\n",
              " 136.8684844970703,\n",
              " 0.18680010735988617,\n",
              " 0.20408746600151062]"
            ]
          },
          "metadata": {},
          "execution_count": 57
        }
      ]
    },
    {
      "cell_type": "code",
      "source": [
        "pred = taxi_fare_model_2_b.predict(X_test)\n",
        "print(\"MAPE : \",mean_absolute_percentage_error(y_test,pred))\n",
        "print(\"MAE : \",mean_absolute_error(y_test,pred))\n",
        "print(\"MSE : \",mean_squared_error(y_test,pred))\n"
      ],
      "metadata": {
        "colab": {
          "base_uri": "https://localhost:8080/"
        },
        "id": "ssZgdDUAl24l",
        "outputId": "f46b0771-a090-4177-ff7f-99652223db2d"
      },
      "execution_count": 58,
      "outputs": [
        {
          "output_type": "stream",
          "name": "stdout",
          "text": [
            "603/603 [==============================] - 1s 1ms/step\n",
            "MAPE :  1.3686844804818958\n",
            "MAE :  0.18680017120553372\n",
            "MSE :  0.20408747937600566\n"
          ]
        }
      ]
    },
    {
      "cell_type": "code",
      "source": [
        "m2b=[mean_absolute_percentage_error(y_test,pred),mean_absolute_error(y_test,pred),mean_squared_error(y_test,pred)]\n",
        "m2b"
      ],
      "metadata": {
        "colab": {
          "base_uri": "https://localhost:8080/"
        },
        "id": "isifgFfrva4G",
        "outputId": "b8de5603-1319-45c9-9cd6-5154cc60d6ec"
      },
      "execution_count": 59,
      "outputs": [
        {
          "output_type": "execute_result",
          "data": {
            "text/plain": [
              "[1.3686844804818958, 0.18680017120553372, 0.20408747937600566]"
            ]
          },
          "metadata": {},
          "execution_count": 59
        }
      ]
    },
    {
      "cell_type": "code",
      "source": [
        "# Plot history (also known as a loss curve or a training curve)\n",
        "pd.DataFrame(history.history['mae']).plot()\n",
        "plt.ylabel(\"mae\")\n",
        "plt.xlabel(\"epochs\")"
      ],
      "metadata": {
        "colab": {
          "base_uri": "https://localhost:8080/",
          "height": 296
        },
        "id": "Lgb6ih0Dl4ng",
        "outputId": "b63d1fb3-23d0-45bf-f9a7-9bc35412747f"
      },
      "execution_count": 60,
      "outputs": [
        {
          "output_type": "execute_result",
          "data": {
            "text/plain": [
              "Text(0.5, 0, 'epochs')"
            ]
          },
          "metadata": {},
          "execution_count": 60
        },
        {
          "output_type": "display_data",
          "data": {
            "text/plain": [
              "<Figure size 432x288 with 1 Axes>"
            ],
            "image/png": "[encoded data removed]"
          },
          "metadata": {
            "needs_background": "light"
          }
        }
      ]
    },
    {
      "cell_type": "markdown",
      "source": [
        "**C. Experiment with activation functions**"
      ],
      "metadata": {
        "id": "73QjEOihhMfh"
      }
    },
    {
      "cell_type": "markdown",
      "source": [
        "**ReLU activation : max(x, 0)**"
      ],
      "metadata": {
        "id": "m7PtPietwjpA"
      }
    },
    {
      "cell_type": "code",
      "source": [
        "taxi_fare_model_3_relu = tf.keras.Sequential([\n",
        "                                       tf.keras.layers.Dense(32, activation='relu', input_dim=X_train.shape[1]),\n",
        "                                       tf.keras.layers.BatchNormalization(),\n",
        "                                       tf.keras.layers.Dense(24, activation='relu'),\n",
        "                                       tf.keras.layers.BatchNormalization(),\n",
        "                                       tf.keras.layers.Dense(16, activation='relu'),\n",
        "                                       tf.keras.layers.BatchNormalization(),\n",
        "                                       tf.keras.layers.Dense(8, activation='relu'),\n",
        "                                       tf.keras.layers.BatchNormalization(),\n",
        "                                       tf.keras.layers.Dense(1)                             ## final output layer with only 1 neuron\n",
        "                                    ])\n",
        "\n",
        "\n",
        "taxi_fare_model_3_relu.compile(loss = tf.keras.losses.mae,\n",
        "                        optimizer = tf.keras.optimizers.SGD(learning_rate=0.0095),\n",
        "                        metrics = [\"mape\",\"mae\",\"mse\"]\n",
        "                        )\n",
        "\n",
        "\n",
        "history = taxi_fare_model_3_relu.fit(X_train, y_train, epochs = 50,batch_size=128)\n"
      ],
      "metadata": {
        "colab": {
          "base_uri": "https://localhost:8080/"
        },
        "id": "FXHc95TKh7mp",
        "outputId": "fa6029e3-c65e-4696-909e-521062259e26"
      },
      "execution_count": 61,
      "outputs": [
        {
          "output_type": "stream",
          "name": "stdout",
          "text": [
            "Epoch 1/50\n",
            "603/603 [==============================] - 2s 2ms/step - loss: 0.4416 - mape: 270.5710 - mae: 0.4416 - mse: 0.5477\n",
            "Epoch 2/50\n",
            "603/603 [==============================] - 1s 2ms/step - loss: 0.3001 - mape: 214.4231 - mae: 0.3001 - mse: 0.3074\n",
            "Epoch 3/50\n",
            "603/603 [==============================] - 1s 2ms/step - loss: 0.2692 - mape: 200.0704 - mae: 0.2692 - mse: 0.2793\n",
            "Epoch 4/50\n",
            "603/603 [==============================] - 1s 2ms/step - loss: 0.2581 - mape: 190.6752 - mae: 0.2581 - mse: 0.2700\n",
            "Epoch 5/50\n",
            "603/603 [==============================] - 1s 2ms/step - loss: 0.2498 - mape: 185.8052 - mae: 0.2498 - mse: 0.2642\n",
            "Epoch 6/50\n",
            "603/603 [==============================] - 1s 2ms/step - loss: 0.2451 - mape: 179.9362 - mae: 0.2451 - mse: 0.2592\n",
            "Epoch 7/50\n",
            "603/603 [==============================] - 2s 3ms/step - loss: 0.2409 - mape: 179.3396 - mae: 0.2409 - mse: 0.2526\n",
            "Epoch 8/50\n",
            "603/603 [==============================] - 1s 2ms/step - loss: 0.2379 - mape: 175.3175 - mae: 0.2379 - mse: 0.2527\n",
            "Epoch 9/50\n",
            "603/603 [==============================] - 1s 2ms/step - loss: 0.2344 - mape: 175.2659 - mae: 0.2344 - mse: 0.2473\n",
            "Epoch 10/50\n",
            "603/603 [==============================] - 1s 2ms/step - loss: 0.2329 - mape: 175.4027 - mae: 0.2329 - mse: 0.2454\n",
            "Epoch 11/50\n",
            "603/603 [==============================] - 1s 2ms/step - loss: 0.2326 - mape: 170.6685 - mae: 0.2326 - mse: 0.2461\n",
            "Epoch 12/50\n",
            "603/603 [==============================] - 1s 2ms/step - loss: 0.2308 - mape: 171.4303 - mae: 0.2308 - mse: 0.2438\n",
            "Epoch 13/50\n",
            "603/603 [==============================] - 1s 2ms/step - loss: 0.2288 - mape: 168.0961 - mae: 0.2288 - mse: 0.2412\n",
            "Epoch 14/50\n",
            "603/603 [==============================] - 1s 2ms/step - loss: 0.2270 - mape: 169.2883 - mae: 0.2270 - mse: 0.2392\n",
            "Epoch 15/50\n",
            "603/603 [==============================] - 1s 2ms/step - loss: 0.2274 - mape: 168.6206 - mae: 0.2274 - mse: 0.2385\n",
            "Epoch 16/50\n",
            "603/603 [==============================] - 2s 3ms/step - loss: 0.2259 - mape: 167.8427 - mae: 0.2259 - mse: 0.2386\n",
            "Epoch 17/50\n",
            "603/603 [==============================] - 1s 2ms/step - loss: 0.2239 - mape: 163.7857 - mae: 0.2239 - mse: 0.2321\n",
            "Epoch 18/50\n",
            "603/603 [==============================] - 1s 2ms/step - loss: 0.2218 - mape: 165.0252 - mae: 0.2218 - mse: 0.2307\n",
            "Epoch 19/50\n",
            "603/603 [==============================] - 1s 2ms/step - loss: 0.2232 - mape: 163.7091 - mae: 0.2232 - mse: 0.2359\n",
            "Epoch 20/50\n",
            "603/603 [==============================] - 1s 2ms/step - loss: 0.2232 - mape: 163.1376 - mae: 0.2232 - mse: 0.2340\n",
            "Epoch 21/50\n",
            "603/603 [==============================] - 1s 2ms/step - loss: 0.2195 - mape: 163.5484 - mae: 0.2195 - mse: 0.2270\n",
            "Epoch 22/50\n",
            "603/603 [==============================] - 1s 2ms/step - loss: 0.2202 - mape: 162.2254 - mae: 0.2202 - mse: 0.2289\n",
            "Epoch 23/50\n",
            "603/603 [==============================] - 1s 2ms/step - loss: 0.2196 - mape: 162.4398 - mae: 0.2196 - mse: 0.2287\n",
            "Epoch 24/50\n",
            "603/603 [==============================] - 1s 2ms/step - loss: 0.2187 - mape: 160.3378 - mae: 0.2187 - mse: 0.2294\n",
            "Epoch 25/50\n",
            "603/603 [==============================] - 2s 3ms/step - loss: 0.2180 - mape: 160.0689 - mae: 0.2180 - mse: 0.2270\n",
            "Epoch 26/50\n",
            "603/603 [==============================] - 1s 2ms/step - loss: 0.2175 - mape: 160.3792 - mae: 0.2175 - mse: 0.2267\n",
            "Epoch 27/50\n",
            "603/603 [==============================] - 1s 2ms/step - loss: 0.2179 - mape: 163.7343 - mae: 0.2179 - mse: 0.2268\n",
            "Epoch 28/50\n",
            "603/603 [==============================] - 1s 2ms/step - loss: 0.2167 - mape: 158.9035 - mae: 0.2167 - mse: 0.2277\n",
            "Epoch 29/50\n",
            "603/603 [==============================] - 1s 2ms/step - loss: 0.2161 - mape: 160.3670 - mae: 0.2161 - mse: 0.2274\n",
            "Epoch 30/50\n",
            "603/603 [==============================] - 1s 2ms/step - loss: 0.2155 - mape: 158.9459 - mae: 0.2155 - mse: 0.2254\n",
            "Epoch 31/50\n",
            "603/603 [==============================] - 1s 2ms/step - loss: 0.2149 - mape: 158.7195 - mae: 0.2149 - mse: 0.2241\n",
            "Epoch 32/50\n",
            "603/603 [==============================] - 1s 2ms/step - loss: 0.2151 - mape: 162.0528 - mae: 0.2151 - mse: 0.2244\n",
            "Epoch 33/50\n",
            "603/603 [==============================] - 1s 2ms/step - loss: 0.2125 - mape: 155.5083 - mae: 0.2125 - mse: 0.2212\n",
            "Epoch 34/50\n",
            "603/603 [==============================] - 2s 3ms/step - loss: 0.2126 - mape: 156.1253 - mae: 0.2126 - mse: 0.2204\n",
            "Epoch 35/50\n",
            "603/603 [==============================] - 1s 2ms/step - loss: 0.2146 - mape: 158.8788 - mae: 0.2146 - mse: 0.2240\n",
            "Epoch 36/50\n",
            "603/603 [==============================] - 1s 2ms/step - loss: 0.2121 - mape: 157.8233 - mae: 0.2121 - mse: 0.2211\n",
            "Epoch 37/50\n",
            "603/603 [==============================] - 1s 2ms/step - loss: 0.2125 - mape: 155.9664 - mae: 0.2125 - mse: 0.2202\n",
            "Epoch 38/50\n",
            "603/603 [==============================] - 1s 2ms/step - loss: 0.2128 - mape: 156.9509 - mae: 0.2128 - mse: 0.2199\n",
            "Epoch 39/50\n",
            "603/603 [==============================] - 1s 2ms/step - loss: 0.2120 - mape: 157.0517 - mae: 0.2120 - mse: 0.2204\n",
            "Epoch 40/50\n",
            "603/603 [==============================] - 1s 2ms/step - loss: 0.2132 - mape: 159.3378 - mae: 0.2132 - mse: 0.2192\n",
            "Epoch 41/50\n",
            "603/603 [==============================] - 1s 2ms/step - loss: 0.2125 - mape: 156.7480 - mae: 0.2125 - mse: 0.2196\n",
            "Epoch 42/50\n",
            "603/603 [==============================] - 1s 2ms/step - loss: 0.2111 - mape: 158.0662 - mae: 0.2111 - mse: 0.2180\n",
            "Epoch 43/50\n",
            "603/603 [==============================] - 2s 3ms/step - loss: 0.2107 - mape: 153.6978 - mae: 0.2107 - mse: 0.2172\n",
            "Epoch 44/50\n",
            "603/603 [==============================] - 1s 2ms/step - loss: 0.2120 - mape: 157.5316 - mae: 0.2120 - mse: 0.2179\n",
            "Epoch 45/50\n",
            "603/603 [==============================] - 1s 2ms/step - loss: 0.2113 - mape: 155.8098 - mae: 0.2113 - mse: 0.2176\n",
            "Epoch 46/50\n",
            "603/603 [==============================] - 1s 2ms/step - loss: 0.2100 - mape: 156.3912 - mae: 0.2100 - mse: 0.2162\n",
            "Epoch 47/50\n",
            "603/603 [==============================] - 1s 2ms/step - loss: 0.2097 - mape: 154.6536 - mae: 0.2097 - mse: 0.2163\n",
            "Epoch 48/50\n",
            "603/603 [==============================] - 1s 2ms/step - loss: 0.2091 - mape: 152.4730 - mae: 0.2091 - mse: 0.2158\n",
            "Epoch 49/50\n",
            "603/603 [==============================] - 1s 2ms/step - loss: 0.2095 - mape: 155.1359 - mae: 0.2095 - mse: 0.2173\n",
            "Epoch 50/50\n",
            "603/603 [==============================] - 1s 2ms/step - loss: 0.2085 - mape: 154.7130 - mae: 0.2085 - mse: 0.2135\n"
          ]
        }
      ]
    },
    {
      "cell_type": "code",
      "source": [
        "taxi_fare_model_3_relu.evaluate(X_test,y_test)"
      ],
      "metadata": {
        "id": "PcmPs9xHiI8a",
        "colab": {
          "base_uri": "https://localhost:8080/"
        },
        "outputId": "00224ce4-28f2-4dbc-df83-74cbb78f6d5d"
      },
      "execution_count": 62,
      "outputs": [
        {
          "output_type": "stream",
          "name": "stdout",
          "text": [
            "603/603 [==============================] - 1s 1ms/step - loss: 0.1883 - mape: 133.6286 - mae: 0.1883 - mse: 0.2160\n"
          ]
        },
        {
          "output_type": "execute_result",
          "data": {
            "text/plain": [
              "[0.18834879994392395,\n",
              " 133.6285858154297,\n",
              " 0.18834879994392395,\n",
              " 0.21600961685180664]"
            ]
          },
          "metadata": {},
          "execution_count": 62
        }
      ]
    },
    {
      "cell_type": "code",
      "source": [
        "pred = taxi_fare_model_3_relu.predict(X_test)\n",
        "print(\"MAPE : \",mean_absolute_percentage_error(y_test,pred))\n",
        "print(\"MAE : \",mean_absolute_error(y_test,pred))\n",
        "print(\"MSE : \",mean_squared_error(y_test,pred))"
      ],
      "metadata": {
        "id": "2S-9A-VSt08K",
        "colab": {
          "base_uri": "https://localhost:8080/"
        },
        "outputId": "778fe557-2366-4fd9-e909-1c363375553f"
      },
      "execution_count": 63,
      "outputs": [
        {
          "output_type": "stream",
          "name": "stdout",
          "text": [
            "603/603 [==============================] - 1s 2ms/step\n",
            "MAPE :  1.336286002731044\n",
            "MAE :  0.18834890755151873\n",
            "MSE :  0.2160095651354576\n"
          ]
        }
      ]
    },
    {
      "cell_type": "code",
      "source": [
        "m3_relu=[mean_absolute_percentage_error(y_test,pred),mean_absolute_error(y_test,pred),mean_squared_error(y_test,pred)]\n",
        "m3_relu"
      ],
      "metadata": {
        "id": "TaXjOObVv1lf",
        "colab": {
          "base_uri": "https://localhost:8080/"
        },
        "outputId": "72feb4e7-a114-4881-aa2b-eee0ebe6041a"
      },
      "execution_count": 64,
      "outputs": [
        {
          "output_type": "execute_result",
          "data": {
            "text/plain": [
              "[1.336286002731044, 0.18834890755151873, 0.2160095651354576]"
            ]
          },
          "metadata": {},
          "execution_count": 64
        }
      ]
    },
    {
      "cell_type": "code",
      "source": [
        "# Plot history (also known as a loss curve or a training curve)\n",
        "pd.DataFrame(history.history['mae']).plot()\n",
        "plt.ylabel(\"mae\")\n",
        "plt.xlabel(\"epochs\")"
      ],
      "metadata": {
        "id": "gO7rRVRKjKFa",
        "colab": {
          "base_uri": "https://localhost:8080/"
        },
        "outputId": "6b25a8d1-0229-46bf-adca-32cd50e3054d"
      },
      "execution_count": 65,
      "outputs": [
        {
          "output_type": "execute_result",
          "data": {
            "text/plain": [
              "Text(0.5, 0, 'epochs')"
            ]
          },
          "metadata": {},
          "execution_count": 65
        },
        {
          "output_type": "display_data",
          "data": {
            "text/plain": [
              "<Figure size 432x288 with 1 Axes>"
            ],
            "image/png": "[encoded data removed]"
          },
          "metadata": {
            "needs_background": "light"
          }
        }
      ]
    },
    {
      "cell_type": "markdown",
      "source": [
        "**tanh activation : tanh(x) = sinh(x)/cosh(x) = ((exp(x) - exp(-x))/(exp(x) + exp(-x)))**"
      ],
      "metadata": {
        "id": "aqzDJdgcw750"
      }
    },
    {
      "cell_type": "code",
      "source": [
        "taxi_fare_model_3_tanh = tf.keras.Sequential([\n",
        "                                       tf.keras.layers.Dense(32, activation='tanh', input_dim=X_train.shape[1]),\n",
        "                                       tf.keras.layers.BatchNormalization(),\n",
        "                                       tf.keras.layers.Dense(24, activation='tanh'),\n",
        "                                       tf.keras.layers.BatchNormalization(),\n",
        "                                       tf.keras.layers.Dense(16, activation='tanh'),\n",
        "                                       tf.keras.layers.BatchNormalization(),\n",
        "                                       tf.keras.layers.Dense(8, activation='tanh'),\n",
        "                                       tf.keras.layers.BatchNormalization(),\n",
        "                                       tf.keras.layers.Dense(1)                             ## final output layer with only 1 neuron\n",
        "                                    ])\n",
        "\n",
        "\n",
        "taxi_fare_model_3_tanh.compile(loss = tf.keras.losses.mae,\n",
        "                        optimizer = tf.keras.optimizers.SGD(learning_rate=0.0095),\n",
        "                        metrics = [\"mape\",\"mae\",\"mse\"]\n",
        "                        )\n",
        "\n",
        "\n",
        "history = taxi_fare_model_3_tanh.fit(X_train, y_train, epochs = 50,batch_size=128)\n"
      ],
      "metadata": {
        "id": "9BwQSQ8WxKYa",
        "colab": {
          "base_uri": "https://localhost:8080/"
        },
        "outputId": "738c7c6d-3b13-4f25-a854-e05241b00d12"
      },
      "execution_count": null,
      "outputs": [
        {
          "output_type": "stream",
          "name": "stdout",
          "text": [
            "Epoch 1/50\n",
            "  1/603 [..............................] - ETA: 11:28 - loss: 1.2898 - mape: 547.4019 - mae: 1.2898 - mse: 2.9955"
          ]
        }
      ]
    },
    {
      "cell_type": "code",
      "source": [
        "taxi_fare_model_3_tanh.evaluate(X_test,y_test)"
      ],
      "metadata": {
        "id": "I22n85M0xeQ4"
      },
      "execution_count": null,
      "outputs": []
    },
    {
      "cell_type": "code",
      "source": [
        "pred = taxi_fare_model_3_tanh.predict(X_test)\n",
        "print(\"MAPE : \",mean_absolute_percentage_error(y_test,pred))\n",
        "print(\"MAE : \",mean_absolute_error(y_test,pred))\n",
        "print(\"MSE : \",mean_squared_error(y_test,pred))"
      ],
      "metadata": {
        "id": "HftwtjVdxgni"
      },
      "execution_count": null,
      "outputs": []
    },
    {
      "cell_type": "code",
      "source": [
        "m3_tanh=[mean_absolute_percentage_error(y_test,pred),mean_absolute_error(y_test,pred),mean_squared_error(y_test,pred)]\n",
        "m3_tanh"
      ],
      "metadata": {
        "id": "6CzkXpwCxoon"
      },
      "execution_count": null,
      "outputs": []
    },
    {
      "cell_type": "code",
      "source": [
        "# Plot history (also known as a loss curve or a training curve)\n",
        "pd.DataFrame(history.history['mae']).plot()\n",
        "plt.ylabel(\"mae\")\n",
        "plt.xlabel(\"epochs\")"
      ],
      "metadata": {
        "id": "R2PJMC7Gxsyr"
      },
      "execution_count": null,
      "outputs": []
    },
    {
      "cell_type": "markdown",
      "source": [
        "**D.Experiment with regularization techniques:  Dropout rate, Early stopping**\n"
      ],
      "metadata": {
        "id": "mpnj85OlkFac"
      }
    },
    {
      "cell_type": "markdown",
      "source": [
        "**Dropout** : It randomly drops neurons from the neural network during training in each iteration which is equivalent to train different neural networks. The different networks will overfit in different ways, so the net effect of dropout will reduce overfitting."
      ],
      "metadata": {
        "id": "PptEz2EBn7B7"
      }
    },
    {
      "cell_type": "code",
      "source": [
        "\n",
        "taxi_fare_model_4_a = tf.keras.Sequential([\n",
        "                                       tf.keras.layers.Dense(32, activation='sigmoid', input_dim=X_train.shape[1]),  ## hidden layer 1\n",
        "                                       tf.keras.layers.BatchNormalization(),\n",
        "                                       Dropout(0.25), ## dropout 25% on hidden layer 1\n",
        "\n",
        "                                       tf.keras.layers.Dense(24, activation='sigmoid'),   ## hidden layer 2\n",
        "                                       tf.keras.layers.BatchNormalization(),\n",
        "                                       Dropout(0.25), ## dropout 25% on hidden layer 2\n",
        "\n",
        "                                       tf.keras.layers.Dense(16, activation='sigmoid'),   ## hidden layer 3\n",
        "                                       tf.keras.layers.BatchNormalization(),\n",
        "                                       Dropout(0.25), ## dropout 25% on hidden layer 3\n",
        "\n",
        "                                       tf.keras.layers.Dense(8, activation='sigmoid'),    ## hidden layer 4\n",
        "                                       tf.keras.layers.BatchNormalization(),\n",
        "                                       Dropout(0.25), ## dropout 25% on hidden layer 4\n",
        "\n",
        "                                       tf.keras.layers.Dense(1)                             ## final output layer with only 1 neuron\n",
        "                                    ])\n",
        "\n",
        "\n",
        "taxi_fare_model_4_a.compile(loss = tf.keras.losses.mae,\n",
        "                        optimizer = tf.keras.optimizers.SGD(learning_rate=0.0095),\n",
        "                        metrics = [\"mape\",\"mae\",\"mse\"]\n",
        "                        )\n",
        "\n",
        "\n",
        "history = taxi_fare_model_4_a.fit(X_train, y_train, epochs = 50,batch_size=128)"
      ],
      "metadata": {
        "id": "Jtvj071MWKXt"
      },
      "execution_count": null,
      "outputs": []
    },
    {
      "cell_type": "code",
      "source": [
        "taxi_fare_model_4_a.evaluate(X_test,y_test)"
      ],
      "metadata": {
        "id": "2Joqnr5oaM2T"
      },
      "execution_count": null,
      "outputs": []
    },
    {
      "cell_type": "code",
      "source": [
        "pred = taxi_fare_model_4_a.predict(X_test)\n",
        "print(\"MAPE : \",mean_absolute_percentage_error(y_test,pred))\n",
        "print(\"MAE : \",mean_absolute_error(y_test,pred))\n",
        "print(\"MSE : \",mean_squared_error(y_test,pred))"
      ],
      "metadata": {
        "id": "Tqc15Rri1tMo"
      },
      "execution_count": null,
      "outputs": []
    },
    {
      "cell_type": "code",
      "source": [
        "m4_a=[mean_absolute_percentage_error(y_test,pred),mean_absolute_error(y_test,pred),mean_squared_error(y_test,pred)]\n",
        "m4_a"
      ],
      "metadata": {
        "id": "tIx-Edy0z-dy"
      },
      "execution_count": null,
      "outputs": []
    },
    {
      "cell_type": "code",
      "source": [
        "# Plot history (also known as a loss curve or a training curve)\n",
        "pd.DataFrame(history.history['mae']).plot()\n",
        "plt.ylabel(\"mae\")\n",
        "plt.xlabel(\"epochs\")"
      ],
      "metadata": {
        "id": "8ZD7-R23ajI-"
      },
      "execution_count": null,
      "outputs": []
    },
    {
      "cell_type": "markdown",
      "source": [
        "**Early stopping** : After some iterations, test error starts to increase while the training error decreases. Hence the model is overfitting. So to combat this, we stop the model at the point when this starts to happen."
      ],
      "metadata": {
        "id": "slLwwYO0oBqR"
      }
    },
    {
      "cell_type": "code",
      "source": [
        "\n",
        "taxi_fare_model_4_b = tf.keras.Sequential([\n",
        "                                       tf.keras.layers.Dense(32, activation='sigmoid', input_dim=X_train.shape[1]),\n",
        "                                       tf.keras.layers.BatchNormalization(),\n",
        "                                       tf.keras.layers.Dense(24, activation='sigmoid'),\n",
        "                                       tf.keras.layers.BatchNormalization(),\n",
        "                                       tf.keras.layers.Dense(16, activation='sigmoid'),\n",
        "                                       tf.keras.layers.BatchNormalization(),\n",
        "                                       tf.keras.layers.Dense(8, activation='sigmoid'),\n",
        "                                       tf.keras.layers.BatchNormalization(),\n",
        "                                       tf.keras.layers.Dense(1)                             ## final output layer with only 1 neuron\n",
        "                                    ])\n",
        "\n",
        "\n",
        "taxi_fare_model_4_b.compile(loss = tf.keras.losses.mae,\n",
        "                        optimizer = tf.keras.optimizers.SGD(learning_rate=0.0095),\n",
        "                        metrics = [\"mape\",\"mae\",\"mse\"]\n",
        "                        )\n",
        "\n",
        "\n",
        "callbacks = [tf.keras.callbacks.EarlyStopping(monitor='val_mae', patience=3)]\n",
        "history = taxi_fare_model_4_b.fit(X_train, y_train, epochs = 50, batch_size=128, validation_split=0.2, callbacks=callbacks )"
      ],
      "metadata": {
        "id": "mugs_pZeao6Q"
      },
      "execution_count": null,
      "outputs": []
    },
    {
      "cell_type": "code",
      "source": [
        "taxi_fare_model_4_b.evaluate(X_test,y_test)"
      ],
      "metadata": {
        "id": "cnNFW-ftbdMA"
      },
      "execution_count": null,
      "outputs": []
    },
    {
      "cell_type": "code",
      "source": [
        "pred = taxi_fare_model_4_b.predict(X_test)\n",
        "print(\"MAPE : \",mean_absolute_percentage_error(y_test,pred))\n",
        "print(\"MAE : \",mean_absolute_error(y_test,pred))\n",
        "print(\"MSE : \",mean_squared_error(y_test,pred))"
      ],
      "metadata": {
        "id": "G0iOBULK13dw"
      },
      "execution_count": null,
      "outputs": []
    },
    {
      "cell_type": "code",
      "source": [
        "m4_b=[mean_absolute_percentage_error(y_test,pred),mean_absolute_error(y_test,pred),mean_squared_error(y_test,pred)]\n",
        "m4_b"
      ],
      "metadata": {
        "id": "WmJExzGi08_w"
      },
      "execution_count": null,
      "outputs": []
    },
    {
      "cell_type": "code",
      "source": [
        "# Plot history (also known as a loss curve or a training curve)\n",
        "\n",
        "pd.DataFrame(history.history['val_mae']).plot()\n",
        "plt.title('validation mae')\n",
        "plt.ylabel(\"val_mae\")\n",
        "plt.xlabel(\"epochs\")\n"
      ],
      "metadata": {
        "id": "9Dv93m9gcWVJ"
      },
      "execution_count": null,
      "outputs": []
    },
    {
      "cell_type": "markdown",
      "source": [
        "Using both dropout and early stopping simultaneously"
      ],
      "metadata": {
        "id": "XC2Y2-WVoGoN"
      }
    },
    {
      "cell_type": "code",
      "source": [
        "\n",
        "taxi_fare_model_4_c = tf.keras.Sequential([\n",
        "                                       tf.keras.layers.Dense(32, activation='sigmoid', input_dim=X_train.shape[1]),  ## hidden layer 1\n",
        "                                       tf.keras.layers.BatchNormalization(),\n",
        "                                       Dropout(0.25), ## dropout 25% on hidden layer 1\n",
        "\n",
        "                                       tf.keras.layers.Dense(24, activation='sigmoid'),   ## hidden layer 2\n",
        "                                       tf.keras.layers.BatchNormalization(),\n",
        "                                       Dropout(0.25), ## dropout 25% on hidden layer 2\n",
        "\n",
        "                                       tf.keras.layers.Dense(16, activation='sigmoid'),   ## hidden layer 3\n",
        "                                       tf.keras.layers.BatchNormalization(),\n",
        "                                       Dropout(0.25), ## dropout 25% on hidden layer 3\n",
        "\n",
        "                                       tf.keras.layers.Dense(8, activation='sigmoid'),    ## hidden layer 4\n",
        "                                       tf.keras.layers.BatchNormalization(),\n",
        "                                       Dropout(0.25), ## dropout 25% on hidden layer 4\n",
        "\n",
        "                                       tf.keras.layers.Dense(1)                             ## final output layer with only 1 neuron\n",
        "                                    ])\n",
        "\n",
        "taxi_fare_model_4_c.compile(loss = tf.keras.losses.mae,\n",
        "                        optimizer = tf.keras.optimizers.Adam(learning_rate=0.0095),\n",
        "                        metrics = [\"mape\",\"mae\",\"mse\"]\n",
        "                        )\n",
        "\n",
        "callbacks = [tf.keras.callbacks.EarlyStopping(monitor='val_mae', patience=3)]\n",
        "history = taxi_fare_model_4_c.fit(X_train, y_train, epochs = 50,batch_size=128,validation_split=0.2,callbacks=callbacks)"
      ],
      "metadata": {
        "id": "pmt01BXmcdse"
      },
      "execution_count": null,
      "outputs": []
    },
    {
      "cell_type": "code",
      "source": [
        "taxi_fare_model_4_c.evaluate(X_test,y_test)"
      ],
      "metadata": {
        "id": "pWRXNiVgnQqA"
      },
      "execution_count": null,
      "outputs": []
    },
    {
      "cell_type": "code",
      "source": [
        "pred = taxi_fare_model_4_c.predict(X_test)\n",
        "print(\"MAPE : \",mean_absolute_percentage_error(y_test,pred))\n",
        "print(\"MAE : \",mean_absolute_error(y_test,pred))\n",
        "print(\"MSE : \",mean_squared_error(y_test,pred))"
      ],
      "metadata": {
        "id": "YuUoClG-3kAr"
      },
      "execution_count": null,
      "outputs": []
    },
    {
      "cell_type": "code",
      "source": [
        "m4_c=[mean_absolute_percentage_error(y_test,pred),mean_absolute_error(y_test,pred),mean_squared_error(y_test,pred)]\n",
        "m4_c"
      ],
      "metadata": {
        "id": "3bE72kw73pT8"
      },
      "execution_count": null,
      "outputs": []
    },
    {
      "cell_type": "code",
      "source": [
        "# Plot history (also known as a loss curve or a training curve)\n",
        "\n",
        "pd.DataFrame(history.history['val_mae']).plot()\n",
        "plt.title('validation mae')\n",
        "plt.ylabel(\"val_mae\")\n",
        "plt.xlabel(\"epochs\")\n"
      ],
      "metadata": {
        "id": "0ibIBssincW4"
      },
      "execution_count": null,
      "outputs": []
    },
    {
      "cell_type": "code",
      "source": [
        "pd.DataFrame(history.history['mae']).plot()\n",
        "plt.title(' mae')\n",
        "plt.ylabel(\"mae\")\n",
        "plt.xlabel(\"epochs\")\n"
      ],
      "metadata": {
        "id": "zhvp2BPInm42"
      },
      "execution_count": null,
      "outputs": []
    },
    {
      "cell_type": "markdown",
      "source": [
        "**E.Experiment with at least 2 more Optimizers**"
      ],
      "metadata": {
        "id": "dxU22qY0oOJE"
      }
    },
    {
      "cell_type": "code",
      "source": [
        "## using RMSprop as optimizer\n",
        "\n",
        "# 1. Create a model\n",
        "taxi_fare_model_5_a = tf.keras.Sequential([\n",
        "                                       tf.keras.layers.Dense(32, activation='sigmoid', input_dim=X_train.shape[1]),\n",
        "                                       tf.keras.layers.BatchNormalization(),\n",
        "                                       tf.keras.layers.Dense(24, activation='sigmoid'),\n",
        "                                       tf.keras.layers.BatchNormalization(),\n",
        "                                       tf.keras.layers.Dense(16, activation='sigmoid'),\n",
        "                                       tf.keras.layers.BatchNormalization(),\n",
        "                                       tf.keras.layers.Dense(8, activation='sigmoid'),\n",
        "                                       tf.keras.layers.BatchNormalization(),\n",
        "                                       tf.keras.layers.Dense(1)                             ## final output layer with only 1 neuron\n",
        "                                    ])\n",
        "\n",
        "# 2. Compile the model\n",
        "taxi_fare_model_5_a.compile(loss = tf.keras.losses.mae,\n",
        "                        optimizer = tf.keras.optimizers.RMSprop(learning_rate=0.0095),\n",
        "                        metrics = [\"mape\",\"mae\",\"mse\"]\n",
        "                        )\n",
        "\n",
        "# 3. Fitting the model\n",
        "history = taxi_fare_model_5_a.fit(X_train, y_train, epochs = 50,batch_size=128)"
      ],
      "metadata": {
        "id": "msRD9m64nuTO"
      },
      "execution_count": null,
      "outputs": []
    },
    {
      "cell_type": "code",
      "source": [
        "taxi_fare_model_5_a.evaluate(X_test,y_test)"
      ],
      "metadata": {
        "id": "jreX5nqDrDXX"
      },
      "execution_count": null,
      "outputs": []
    },
    {
      "cell_type": "code",
      "source": [
        "pred = taxi_fare_model_5_a.predict(X_test)\n",
        "print(\"MAPE : \",mean_absolute_percentage_error(y_test,pred))\n",
        "print(\"MAE : \",mean_absolute_error(y_test,pred))\n",
        "print(\"MSE : \",mean_squared_error(y_test,pred))"
      ],
      "metadata": {
        "id": "TLuqPrxz5B6T"
      },
      "execution_count": null,
      "outputs": []
    },
    {
      "cell_type": "code",
      "source": [
        "m5_a=[mean_absolute_percentage_error(y_test,pred),mean_absolute_error(y_test,pred),mean_squared_error(y_test,pred)]\n",
        "m5_a"
      ],
      "metadata": {
        "id": "TgNqyZs05E_0"
      },
      "execution_count": null,
      "outputs": []
    },
    {
      "cell_type": "code",
      "source": [
        "# Plot history (also known as a loss curve or a training curve)\n",
        "\n",
        "pd.DataFrame(history.history['mae']).plot()\n",
        "plt.ylabel(\"mae\")\n",
        "plt.xlabel(\"epochs\")"
      ],
      "metadata": {
        "id": "Pilyp92PrKIW"
      },
      "execution_count": null,
      "outputs": []
    },
    {
      "cell_type": "code",
      "source": [
        "## using Adamax as optimizer\n",
        "\n",
        "# 1. Create a model\n",
        "taxi_fare_model_5_b = tf.keras.Sequential([\n",
        "                                       tf.keras.layers.Dense(32, activation='sigmoid', input_dim=X_train.shape[1]),\n",
        "                                       tf.keras.layers.BatchNormalization(),\n",
        "                                       tf.keras.layers.Dense(24, activation='sigmoid'),\n",
        "                                       tf.keras.layers.BatchNormalization(),\n",
        "                                       tf.keras.layers.Dense(16, activation='sigmoid'),\n",
        "                                       tf.keras.layers.BatchNormalization(),\n",
        "                                       tf.keras.layers.Dense(8, activation='sigmoid'),\n",
        "                                       tf.keras.layers.BatchNormalization(),\n",
        "                                       tf.keras.layers.Dense(1)                             ## final output layer with only 1 neuron\n",
        "                                    ])\n",
        "\n",
        "# 2. Compile the model\n",
        "taxi_fare_model_5_b.compile(loss = tf.keras.losses.mae,\n",
        "                        optimizer = tf.keras.optimizers.Adamax(learning_rate=0.0095),\n",
        "                        metrics = ['mape','mae','mse']\n",
        "                        )\n",
        "\n",
        "# 3. Fitting the model\n",
        "history = taxi_fare_model_5_b.fit(X_train, y_train, epochs = 50,batch_size=128)"
      ],
      "metadata": {
        "id": "VvTwj2hyo5oj"
      },
      "execution_count": null,
      "outputs": []
    },
    {
      "cell_type": "code",
      "source": [
        "taxi_fare_model_5_b.evaluate(X_test,y_test)"
      ],
      "metadata": {
        "id": "UaRj_s2jwCws"
      },
      "execution_count": null,
      "outputs": []
    },
    {
      "cell_type": "code",
      "source": [
        "pred = taxi_fare_model_5_b.predict(X_test)\n",
        "print(\"MAPE : \",mean_absolute_percentage_error(y_test,pred))\n",
        "print(\"MAE : \",mean_absolute_error(y_test,pred))\n",
        "print(\"MSE : \",mean_squared_error(y_test,pred))"
      ],
      "metadata": {
        "id": "DFcF4ACl5qyE"
      },
      "execution_count": null,
      "outputs": []
    },
    {
      "cell_type": "code",
      "source": [
        "m5_b=[mean_absolute_percentage_error(y_test,pred),mean_absolute_error(y_test,pred),mean_squared_error(y_test,pred)]\n",
        "m5_b"
      ],
      "metadata": {
        "id": "47vEKv3n5uyv"
      },
      "execution_count": null,
      "outputs": []
    },
    {
      "cell_type": "code",
      "source": [
        "# Plot history (also known as a loss curve or a training curve)\n",
        "\n",
        "pd.DataFrame(history.history['mae']).plot()\n",
        "plt.ylabel(\"mae\")\n",
        "plt.xlabel(\"epochs\")"
      ],
      "metadata": {
        "id": "LaoWXmdFrxkd"
      },
      "execution_count": null,
      "outputs": []
    },
    {
      "cell_type": "markdown",
      "source": [
        "Performance metrices(MAPE, MAE, MSE) from each of the models:"
      ],
      "metadata": {
        "id": "Eg_v6e2G7AeC"
      }
    },
    {
      "cell_type": "code",
      "execution_count": null,
      "metadata": {
        "id": "f8b6fcaf"
      },
      "outputs": [],
      "source": [
        "Performance_metrics=pd.DataFrame(\n",
        "                                 {\"Basic Neural Network\": m1,\n",
        "                                  \"Decreasing layers & neurons\":m2a,\n",
        "                                  \"Increasing layers & neurons\":m2b,\n",
        "                                  \"ReLU activation\":m3_relu,\n",
        "                                  \"tanh activation\":m3_tanh,\n",
        "                                  \"Dropout \":m4_a,\n",
        "                                  \"Early Stopping \":m4_b,\n",
        "                                  \"Dropout + Early stopping\":m4_c,\n",
        "                                  \"RmsProp optimizer\":m5_a,\n",
        "                                  \"Adamax\":m5_b},\n",
        "                                 index=[\"MAPE\",'MAE','MSE'])"
      ]
    },
    {
      "cell_type": "code",
      "source": [
        "Performance_metrics"
      ],
      "metadata": {
        "id": "At6znIWlr3pa"
      },
      "execution_count": null,
      "outputs": []
    },
    {
      "cell_type": "code",
      "source": [
        "import scipy.stats as st\n",
        "mape_arr=np.array(Performance_metrics.loc['MAPE'].tolist())\n",
        "mae_arr=np.array(Performance_metrics.loc['MAE'].tolist())\n",
        "mse_arr=np.array(Performance_metrics.loc['MSE'].tolist())\n",
        "\n",
        "# create 95% confidence interval\n",
        "def confidence(arr):\n",
        "  c=st.t.interval(alpha=0.95, df=len(arr)-1,loc=np.mean(arr),scale=st.sem(arr))\n",
        "  return c\n",
        "\n"
      ],
      "metadata": {
        "id": "iGPVcUv09H9M"
      },
      "execution_count": null,
      "outputs": []
    },
    {
      "cell_type": "code",
      "source": [
        "c_mape=confidence(mape_arr)\n",
        "c_mae=confidence(mae_arr)\n",
        "c_mse=confidence(mse_arr)"
      ],
      "metadata": {
        "id": "FjOjp4C_-s3Y"
      },
      "execution_count": null,
      "outputs": []
    },
    {
      "cell_type": "code",
      "source": [
        "confidence_table = pd.DataFrame({\"Minimum\":[c_mape[0],c_mae[0],c_mse[0]],\n",
        "                                 \"Maximum\":[c_mape[1],c_mae[1],c_mse[1]]},\n",
        "                                index=[\"MAPE\",'MAE','MSE'])"
      ],
      "metadata": {
        "id": "ZCRa5No_-0mP"
      },
      "execution_count": null,
      "outputs": []
    },
    {
      "cell_type": "code",
      "source": [
        "confidence_table"
      ],
      "metadata": {
        "id": "rlQ3-DdC--yE"
      },
      "execution_count": null,
      "outputs": []
    },
    {
      "cell_type": "markdown",
      "source": [
        "Neural network having 4 hidden layers and using Adamax optimizer is giving me the least error among all methods so now i will predict the fare amount usig my that model (model 5_b)"
      ],
      "metadata": {
        "id": "rCe55J8q_RqU"
      }
    },
    {
      "cell_type": "code",
      "source": [
        "predicted_fare = taxi_fare_model_5_b.predict(test_scaled)"
      ],
      "metadata": {
        "id": "3YE5BEMN_Akn"
      },
      "execution_count": null,
      "outputs": []
    },
    {
      "cell_type": "code",
      "source": [
        "predicted_fare"
      ],
      "metadata": {
        "id": "I1HAVMhaACS4"
      },
      "execution_count": null,
      "outputs": []
    },
    {
      "cell_type": "code",
      "source": [
        "upper_y = round(train.fare_amount.mean() + (3*train.fare_amount.std()))\n",
        "upper_y"
      ],
      "metadata": {
        "id": "Bi6IJcUhRCW2"
      },
      "execution_count": null,
      "outputs": []
    },
    {
      "cell_type": "code",
      "source": [
        "from sklearn.preprocessing import MinMaxScaler\n",
        "scaler = MinMaxScaler(feature_range=(min(train['fare_amount']), upper_y))\n",
        "\n",
        "predicted = scaler.fit_transform(predicted_fare)\n",
        "\n",
        "predicted"
      ],
      "metadata": {
        "id": "m6ZHYgZ8PPX3"
      },
      "execution_count": null,
      "outputs": []
    },
    {
      "cell_type": "code",
      "source": [
        "test['fare_predicted']=predicted"
      ],
      "metadata": {
        "id": "VxH0FhgfSe_6"
      },
      "execution_count": null,
      "outputs": []
    },
    {
      "cell_type": "code",
      "source": [
        "test.head()"
      ],
      "metadata": {
        "id": "GYBPcIG6TAVt"
      },
      "execution_count": null,
      "outputs": []
    },
    {
      "cell_type": "code",
      "source": [
        "result = test.drop(['pickup_longitude', 'pickup_latitude', 'dropoff_longitude', 'dropoff_latitude', 'passenger_count', 'Year','Month','Date','Day of Week','Hour','H_Distance'],axis=1)\n",
        "result"
      ],
      "metadata": {
        "id": "rxzwuDZsTB5m"
      },
      "execution_count": null,
      "outputs": []
    },
    {
      "cell_type": "code",
      "source": [],
      "metadata": {
        "id": "s8SiqB3YTcEq"
      },
      "execution_count": null,
      "outputs": []
    }
  ]
}